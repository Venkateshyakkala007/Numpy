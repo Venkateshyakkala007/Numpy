{
  "nbformat": 4,
  "nbformat_minor": 0,
  "metadata": {
    "colab": {
      "provenance": [],
      "include_colab_link": true
    },
    "kernelspec": {
      "name": "python3",
      "display_name": "Python 3"
    },
    "language_info": {
      "name": "python"
    }
  },
  "cells": [
    {
      "cell_type": "markdown",
      "metadata": {
        "id": "view-in-github",
        "colab_type": "text"
      },
      "source": [
        "<a href=\"https://colab.research.google.com/github/Venkateshyakkala007/Numpy/blob/main/1_june23_np_1.ipynb\" target=\"_parent\"><img src=\"https://colab.research.google.com/assets/colab-badge.svg\" alt=\"Open In Colab\"/></a>"
      ]
    },
    {
      "cell_type": "code",
      "execution_count": null,
      "metadata": {
        "colab": {
          "base_uri": "https://localhost:8080/",
          "height": 35
        },
        "id": "wUb-oTwwv_UF",
        "outputId": "d5415b43-3b0d-4588-8689-a3ea6b0f2618"
      },
      "outputs": [
        {
          "output_type": "execute_result",
          "data": {
            "text/plain": [
              "'\\nDAV -> Data Analysis and Visualization\\n\\nDAV-1 : Numpy, Pandas, Matplotlib and Seaborn\\nDAV-2 : Probability and Stats\\nDAV-3 : Hypothesis testing\\n\\n'"
            ],
            "application/vnd.google.colaboratory.intrinsic+json": {
              "type": "string"
            }
          },
          "metadata": {},
          "execution_count": 1
        }
      ],
      "source": [
        "'''\n",
        "DAV -> Data Analysis and Visualization\n",
        "\n",
        "DAV-1 : Numpy, Pandas, Matplotlib and Seaborn\n",
        "DAV-2 : Probability and Stats\n",
        "DAV-3 : Hypothesis testing\n",
        "\n",
        "'''"
      ]
    },
    {
      "cell_type": "code",
      "source": [
        "a = [1, 2, \"AJ\", 7.6]\n",
        "type(a)"
      ],
      "metadata": {
        "colab": {
          "base_uri": "https://localhost:8080/"
        },
        "id": "oOL8038Zyp60",
        "outputId": "c9dad5f8-991d-4d89-9e0a-621c1ba8aeb7"
      },
      "execution_count": null,
      "outputs": [
        {
          "output_type": "execute_result",
          "data": {
            "text/plain": [
              "list"
            ]
          },
          "metadata": {},
          "execution_count": 2
        }
      ]
    },
    {
      "cell_type": "markdown",
      "source": [
        "<img src=\"https://drive.google.com/uc?id=1lgwART77tbifHMJjw-d4NV7aEpr0LVat\">"
      ],
      "metadata": {
        "id": "uYizUNXdzFpF"
      }
    },
    {
      "cell_type": "code",
      "source": [
        "#speed comparison"
      ],
      "metadata": {
        "id": "6A2T9MaNyxpB"
      },
      "execution_count": null,
      "outputs": []
    },
    {
      "cell_type": "code",
      "source": [
        "l = range(10000000)"
      ],
      "metadata": {
        "id": "e_3OPloSzrKA"
      },
      "execution_count": null,
      "outputs": []
    },
    {
      "cell_type": "code",
      "source": [
        "%timeit [i**2 for i in l]"
      ],
      "metadata": {
        "colab": {
          "base_uri": "https://localhost:8080/"
        },
        "id": "xztfI5AZz0pF",
        "outputId": "fdeabc71-5ca5-44fc-e7f5-e8202fabdd5d"
      },
      "execution_count": null,
      "outputs": [
        {
          "output_type": "stream",
          "name": "stdout",
          "text": [
            "3.88 s ± 504 ms per loop (mean ± std. dev. of 7 runs, 1 loop each)\n"
          ]
        }
      ]
    },
    {
      "cell_type": "code",
      "source": [
        "type(l)"
      ],
      "metadata": {
        "colab": {
          "base_uri": "https://localhost:8080/"
        },
        "id": "zzgdJG0i0Lkh",
        "outputId": "2985e532-4015-455c-8b34-e3f47077eb8b"
      },
      "execution_count": null,
      "outputs": [
        {
          "output_type": "execute_result",
          "data": {
            "text/plain": [
              "range"
            ]
          },
          "metadata": {},
          "execution_count": 6
        }
      ]
    },
    {
      "cell_type": "code",
      "source": [
        "import numpy as np"
      ],
      "metadata": {
        "id": "bslh7zOG0lUQ"
      },
      "execution_count": null,
      "outputs": []
    },
    {
      "cell_type": "code",
      "source": [
        "b = np.array(l)"
      ],
      "metadata": {
        "id": "Xb062jtL0qOt"
      },
      "execution_count": null,
      "outputs": []
    },
    {
      "cell_type": "code",
      "source": [
        "type(b)"
      ],
      "metadata": {
        "colab": {
          "base_uri": "https://localhost:8080/"
        },
        "id": "_HROF1eC01IQ",
        "outputId": "29f15650-2905-4918-ff91-fca8fc81ba75"
      },
      "execution_count": null,
      "outputs": [
        {
          "output_type": "execute_result",
          "data": {
            "text/plain": [
              "numpy.ndarray"
            ]
          },
          "metadata": {},
          "execution_count": 9
        }
      ]
    },
    {
      "cell_type": "code",
      "source": [
        "#element-wise operations"
      ],
      "metadata": {
        "id": "YHYT5IQm02CO"
      },
      "execution_count": null,
      "outputs": []
    },
    {
      "cell_type": "code",
      "source": [
        "%timeit b ** 2"
      ],
      "metadata": {
        "colab": {
          "base_uri": "https://localhost:8080/"
        },
        "id": "eTeNFUdq0_y_",
        "outputId": "f6015db6-4579-4349-d6ef-833646f5f16f"
      },
      "execution_count": null,
      "outputs": [
        {
          "output_type": "stream",
          "name": "stdout",
          "text": [
            "31.6 ms ± 897 µs per loop (mean ± std. dev. of 7 runs, 10 loops each)\n"
          ]
        }
      ]
    },
    {
      "cell_type": "code",
      "source": [
        "type(b)"
      ],
      "metadata": {
        "colab": {
          "base_uri": "https://localhost:8080/"
        },
        "id": "XF0Qs4Py1SSW",
        "outputId": "362f5dd1-3812-4e9a-94e7-b92ca70cfed7"
      },
      "execution_count": null,
      "outputs": [
        {
          "output_type": "execute_result",
          "data": {
            "text/plain": [
              "numpy.ndarray"
            ]
          },
          "metadata": {},
          "execution_count": 12
        }
      ]
    },
    {
      "cell_type": "code",
      "source": [
        "type(l)"
      ],
      "metadata": {
        "colab": {
          "base_uri": "https://localhost:8080/"
        },
        "id": "-JNmTgfo1959",
        "outputId": "c1e9d28d-45a9-46ab-d55c-0cb7db6b74ad"
      },
      "execution_count": null,
      "outputs": [
        {
          "output_type": "execute_result",
          "data": {
            "text/plain": [
              "range"
            ]
          },
          "metadata": {},
          "execution_count": 13
        }
      ]
    },
    {
      "cell_type": "code",
      "source": [
        "b.ndim"
      ],
      "metadata": {
        "colab": {
          "base_uri": "https://localhost:8080/"
        },
        "id": "V5nMMn6X1-7j",
        "outputId": "ade14ee9-2ff2-4390-d37b-75177649faf4"
      },
      "execution_count": null,
      "outputs": [
        {
          "output_type": "execute_result",
          "data": {
            "text/plain": [
              "1"
            ]
          },
          "metadata": {},
          "execution_count": 14
        }
      ]
    },
    {
      "cell_type": "code",
      "source": [
        "b.shape"
      ],
      "metadata": {
        "colab": {
          "base_uri": "https://localhost:8080/"
        },
        "id": "7JBIyelk2IhR",
        "outputId": "920b5d26-7f85-4400-e00b-f6467e674c06"
      },
      "execution_count": null,
      "outputs": [
        {
          "output_type": "execute_result",
          "data": {
            "text/plain": [
              "(10000000,)"
            ]
          },
          "metadata": {},
          "execution_count": 15
        }
      ]
    },
    {
      "cell_type": "code",
      "source": [
        "len(b)"
      ],
      "metadata": {
        "colab": {
          "base_uri": "https://localhost:8080/"
        },
        "id": "YGbM5VBD2TKE",
        "outputId": "41246423-d53c-481e-aaf6-9a5eecf65e33"
      },
      "execution_count": null,
      "outputs": [
        {
          "output_type": "execute_result",
          "data": {
            "text/plain": [
              "10000000"
            ]
          },
          "metadata": {},
          "execution_count": 16
        }
      ]
    },
    {
      "cell_type": "code",
      "source": [
        "c = np.arange(1,5)\n",
        "print(c)"
      ],
      "metadata": {
        "colab": {
          "base_uri": "https://localhost:8080/"
        },
        "id": "_FPLGykO2bX7",
        "outputId": "1b23aa25-4234-48ce-be55-ea9b0e3587c8"
      },
      "execution_count": null,
      "outputs": [
        {
          "output_type": "stream",
          "name": "stdout",
          "text": [
            "[1 2 3 4]\n"
          ]
        }
      ]
    },
    {
      "cell_type": "code",
      "source": [
        "type(c)"
      ],
      "metadata": {
        "colab": {
          "base_uri": "https://localhost:8080/"
        },
        "id": "BS2rWwUf2rW9",
        "outputId": "a915bd84-fb8d-4e0a-de5d-a30cf25a9f6a"
      },
      "execution_count": null,
      "outputs": [
        {
          "output_type": "execute_result",
          "data": {
            "text/plain": [
              "numpy.ndarray"
            ]
          },
          "metadata": {},
          "execution_count": 18
        }
      ]
    },
    {
      "cell_type": "code",
      "source": [
        "c = np.arange(1,5,0.5)\n",
        "print(c)"
      ],
      "metadata": {
        "colab": {
          "base_uri": "https://localhost:8080/"
        },
        "id": "EsccMJ5M2s6a",
        "outputId": "0bb731f6-b7d7-404b-9d6b-544a37d82618"
      },
      "execution_count": null,
      "outputs": [
        {
          "output_type": "stream",
          "name": "stdout",
          "text": [
            "[1.  1.5 2.  2.5 3.  3.5 4.  4.5]\n"
          ]
        }
      ]
    },
    {
      "cell_type": "code",
      "source": [
        "a = [1,3, \"AJ\"]\n",
        "print(a)"
      ],
      "metadata": {
        "colab": {
          "base_uri": "https://localhost:8080/"
        },
        "id": "pr3ZhFzI27iR",
        "outputId": "104aba62-1aad-46d5-8493-c8a51ac3c976"
      },
      "execution_count": null,
      "outputs": [
        {
          "output_type": "stream",
          "name": "stdout",
          "text": [
            "[1, 3, 'AJ']\n"
          ]
        }
      ]
    },
    {
      "cell_type": "code",
      "source": [
        "type(a)"
      ],
      "metadata": {
        "colab": {
          "base_uri": "https://localhost:8080/"
        },
        "id": "ZoTOtLcX3UAv",
        "outputId": "9a1e385f-d8b2-481d-91d2-d75986619ad6"
      },
      "execution_count": null,
      "outputs": [
        {
          "output_type": "execute_result",
          "data": {
            "text/plain": [
              "list"
            ]
          },
          "metadata": {},
          "execution_count": 21
        }
      ]
    },
    {
      "cell_type": "code",
      "source": [
        "b = np.array(a)\n",
        "print(b)"
      ],
      "metadata": {
        "colab": {
          "base_uri": "https://localhost:8080/"
        },
        "id": "4LAWwk5R3YhY",
        "outputId": "9eef0fd9-12e7-4f8d-ff83-d9c6e95634a6"
      },
      "execution_count": null,
      "outputs": [
        {
          "output_type": "stream",
          "name": "stdout",
          "text": [
            "['1' '3' 'AJ']\n"
          ]
        }
      ]
    },
    {
      "cell_type": "code",
      "source": [
        "a = [5,7,2,6]\n",
        "type(a)"
      ],
      "metadata": {
        "colab": {
          "base_uri": "https://localhost:8080/"
        },
        "id": "qHtVlBwW3cUn",
        "outputId": "919f4548-ed8e-489c-8d86-06093ebac5fc"
      },
      "execution_count": null,
      "outputs": [
        {
          "output_type": "execute_result",
          "data": {
            "text/plain": [
              "list"
            ]
          },
          "metadata": {},
          "execution_count": 23
        }
      ]
    },
    {
      "cell_type": "code",
      "source": [
        "b = np.array(a)\n",
        "print(b)"
      ],
      "metadata": {
        "colab": {
          "base_uri": "https://localhost:8080/"
        },
        "id": "g8nygPWV38Cp",
        "outputId": "1c16fb6e-e9a4-4f53-eec7-454590176566"
      },
      "execution_count": null,
      "outputs": [
        {
          "output_type": "stream",
          "name": "stdout",
          "text": [
            "[5 7 2 6]\n"
          ]
        }
      ]
    },
    {
      "cell_type": "code",
      "source": [
        "c = np.array(a, dtype = \"float\")\n",
        "print(c)"
      ],
      "metadata": {
        "colab": {
          "base_uri": "https://localhost:8080/"
        },
        "id": "-q_-y7dR3-PX",
        "outputId": "910a9210-0b95-4801-ecad-791aa7ba7c1d"
      },
      "execution_count": null,
      "outputs": [
        {
          "output_type": "stream",
          "name": "stdout",
          "text": [
            "[5. 7. 2. 6.]\n"
          ]
        }
      ]
    },
    {
      "cell_type": "code",
      "source": [
        "#Quiz\n",
        "\n",
        "d = np.array([4,8,4.3, 9])\n",
        "print(d)"
      ],
      "metadata": {
        "colab": {
          "base_uri": "https://localhost:8080/"
        },
        "id": "EglVzzLp4JJK",
        "outputId": "b620d642-3817-451a-f175-136d5ce150d4"
      },
      "execution_count": null,
      "outputs": [
        {
          "output_type": "stream",
          "name": "stdout",
          "text": [
            "[4.  8.  4.3 9. ]\n"
          ]
        }
      ]
    },
    {
      "cell_type": "code",
      "source": [
        "#Quiz\n",
        "\n",
        "a = np.array([1,2,3,4,5,6,7,8])\n",
        "print(a.ndim, a.shape)"
      ],
      "metadata": {
        "colab": {
          "base_uri": "https://localhost:8080/"
        },
        "id": "A1RUSpam4ZbW",
        "outputId": "c172952c-11e6-4873-aa62-43cba52aa6d6"
      },
      "execution_count": null,
      "outputs": [
        {
          "output_type": "stream",
          "name": "stdout",
          "text": [
            "1 (8,)\n"
          ]
        }
      ]
    },
    {
      "cell_type": "code",
      "source": [
        "a = np.array([1,2,3,4,5,6,7,8])\n",
        "print(a)"
      ],
      "metadata": {
        "colab": {
          "base_uri": "https://localhost:8080/"
        },
        "id": "1238DY2244_W",
        "outputId": "8f28e40f-891b-4a7a-9f13-5a90070ded32"
      },
      "execution_count": null,
      "outputs": [
        {
          "output_type": "stream",
          "name": "stdout",
          "text": [
            "[1 2 3 4 5 6 7 8]\n"
          ]
        }
      ]
    },
    {
      "cell_type": "code",
      "source": [
        "type(a)"
      ],
      "metadata": {
        "colab": {
          "base_uri": "https://localhost:8080/"
        },
        "id": "MEXl7kNh5MPB",
        "outputId": "8ada1a77-cae8-4966-8d41-ada9dee1006a"
      },
      "execution_count": null,
      "outputs": [
        {
          "output_type": "execute_result",
          "data": {
            "text/plain": [
              "numpy.ndarray"
            ]
          },
          "metadata": {},
          "execution_count": 30
        }
      ]
    },
    {
      "cell_type": "code",
      "source": [
        "a.ndim"
      ],
      "metadata": {
        "colab": {
          "base_uri": "https://localhost:8080/"
        },
        "id": "OHU3o3oG5NgE",
        "outputId": "95037c3b-efee-4f94-c319-96d82b270614"
      },
      "execution_count": null,
      "outputs": [
        {
          "output_type": "execute_result",
          "data": {
            "text/plain": [
              "1"
            ]
          },
          "metadata": {},
          "execution_count": 31
        }
      ]
    },
    {
      "cell_type": "code",
      "source": [
        "a.shape"
      ],
      "metadata": {
        "colab": {
          "base_uri": "https://localhost:8080/"
        },
        "id": "--HLTMTz5S4x",
        "outputId": "b5c0253b-1d7c-4727-9c0f-a4661dc830dc"
      },
      "execution_count": null,
      "outputs": [
        {
          "output_type": "execute_result",
          "data": {
            "text/plain": [
              "(8,)"
            ]
          },
          "metadata": {},
          "execution_count": 32
        }
      ]
    },
    {
      "cell_type": "code",
      "source": [
        "#Quiz\n",
        "\n",
        "np.array([\"AJ\", \"Yo\", \"Hi\"], dtype = \"float\")"
      ],
      "metadata": {
        "colab": {
          "base_uri": "https://localhost:8080/",
          "height": 211
        },
        "id": "_IVTdWZT5UyT",
        "outputId": "73729b7c-ac97-458f-8c19-15b559092087"
      },
      "execution_count": null,
      "outputs": [
        {
          "output_type": "error",
          "ename": "ValueError",
          "evalue": "ignored",
          "traceback": [
            "\u001b[0;31m---------------------------------------------------------------------------\u001b[0m",
            "\u001b[0;31mValueError\u001b[0m                                Traceback (most recent call last)",
            "\u001b[0;32m<ipython-input-33-a0d0d9a10ebc>\u001b[0m in \u001b[0;36m<cell line: 3>\u001b[0;34m()\u001b[0m\n\u001b[1;32m      1\u001b[0m \u001b[0;31m#Quiz\u001b[0m\u001b[0;34m\u001b[0m\u001b[0;34m\u001b[0m\u001b[0m\n\u001b[1;32m      2\u001b[0m \u001b[0;34m\u001b[0m\u001b[0m\n\u001b[0;32m----> 3\u001b[0;31m \u001b[0mnp\u001b[0m\u001b[0;34m.\u001b[0m\u001b[0marray\u001b[0m\u001b[0;34m(\u001b[0m\u001b[0;34m[\u001b[0m\u001b[0;34m\"AJ\"\u001b[0m\u001b[0;34m,\u001b[0m \u001b[0;34m\"Yo\"\u001b[0m\u001b[0;34m,\u001b[0m \u001b[0;34m\"Hi\"\u001b[0m\u001b[0;34m]\u001b[0m\u001b[0;34m,\u001b[0m \u001b[0mdtype\u001b[0m \u001b[0;34m=\u001b[0m \u001b[0;34m\"float\"\u001b[0m\u001b[0;34m)\u001b[0m\u001b[0;34m\u001b[0m\u001b[0;34m\u001b[0m\u001b[0m\n\u001b[0m",
            "\u001b[0;31mValueError\u001b[0m: could not convert string to float: 'AJ'"
          ]
        }
      ]
    },
    {
      "cell_type": "code",
      "source": [
        "a = np.array([10,20,30,40,50])\n",
        "type(a)\n"
      ],
      "metadata": {
        "colab": {
          "base_uri": "https://localhost:8080/"
        },
        "id": "CfriPmz85lDL",
        "outputId": "5777eb28-0523-463b-aec5-454658351d92"
      },
      "execution_count": null,
      "outputs": [
        {
          "output_type": "execute_result",
          "data": {
            "text/plain": [
              "numpy.ndarray"
            ]
          },
          "metadata": {},
          "execution_count": 34
        }
      ]
    },
    {
      "cell_type": "code",
      "source": [
        "print(a)"
      ],
      "metadata": {
        "colab": {
          "base_uri": "https://localhost:8080/"
        },
        "id": "kEEfUWEf5yAc",
        "outputId": "86a2fd92-470d-470f-fa4f-7afed94ca861"
      },
      "execution_count": null,
      "outputs": [
        {
          "output_type": "stream",
          "name": "stdout",
          "text": [
            "[10 20 30 40 50]\n"
          ]
        }
      ]
    },
    {
      "cell_type": "code",
      "source": [
        "a = a.astype(\"float\")\n",
        "print(a)"
      ],
      "metadata": {
        "colab": {
          "base_uri": "https://localhost:8080/"
        },
        "id": "TEs4K96P5yg_",
        "outputId": "fc2e33b4-95c1-46b9-eb2e-671a6a8bf79f"
      },
      "execution_count": null,
      "outputs": [
        {
          "output_type": "stream",
          "name": "stdout",
          "text": [
            "[10. 20. 30. 40. 50.]\n"
          ]
        }
      ]
    },
    {
      "cell_type": "code",
      "source": [
        "a.dtype"
      ],
      "metadata": {
        "colab": {
          "base_uri": "https://localhost:8080/"
        },
        "id": "NFxthTd558A_",
        "outputId": "6b339e89-5eae-4a79-8dc4-8340c3322d9e"
      },
      "execution_count": null,
      "outputs": [
        {
          "output_type": "execute_result",
          "data": {
            "text/plain": [
              "dtype('float64')"
            ]
          },
          "metadata": {},
          "execution_count": 37
        }
      ]
    },
    {
      "cell_type": "code",
      "source": [
        "#Quiz:\n",
        "\n",
        "b = np.arange(4,9,0.5)\n",
        "print(b)"
      ],
      "metadata": {
        "colab": {
          "base_uri": "https://localhost:8080/"
        },
        "id": "czvAhfFB6IUT",
        "outputId": "79a15791-7c26-4830-c950-0a32d66d8f23"
      },
      "execution_count": null,
      "outputs": [
        {
          "output_type": "stream",
          "name": "stdout",
          "text": [
            "[4.  4.5 5.  5.5 6.  6.5 7.  7.5 8.  8.5]\n"
          ]
        }
      ]
    },
    {
      "cell_type": "markdown",
      "source": [
        "<img src=\"https://drive.google.com/uc?id=1GSV_E1CaCc_Ur7pWJ-Kqv0VKvBRwByR1\">"
      ],
      "metadata": {
        "id": "hOz6lU7S6rXf"
      }
    },
    {
      "cell_type": "code",
      "source": [
        "b = np.arange(12)\n",
        "print(b)"
      ],
      "metadata": {
        "colab": {
          "base_uri": "https://localhost:8080/"
        },
        "id": "eDva6j8q6iKd",
        "outputId": "2d93921c-79a2-4f48-d15d-593f44181750"
      },
      "execution_count": null,
      "outputs": [
        {
          "output_type": "stream",
          "name": "stdout",
          "text": [
            "[ 0  1  2  3  4  5  6  7  8  9 10 11]\n"
          ]
        }
      ]
    },
    {
      "cell_type": "code",
      "source": [
        "type(b)"
      ],
      "metadata": {
        "colab": {
          "base_uri": "https://localhost:8080/"
        },
        "id": "247jd2yK703m",
        "outputId": "7eb487fd-0822-41b8-a5a7-77b40e6bdc88"
      },
      "execution_count": null,
      "outputs": [
        {
          "output_type": "execute_result",
          "data": {
            "text/plain": [
              "numpy.ndarray"
            ]
          },
          "metadata": {},
          "execution_count": 40
        }
      ]
    },
    {
      "cell_type": "code",
      "source": [
        "b[3]"
      ],
      "metadata": {
        "colab": {
          "base_uri": "https://localhost:8080/"
        },
        "id": "pnTQT9wp72X8",
        "outputId": "5779fc41-5009-4bc3-9685-f6f3e7fd3cb4"
      },
      "execution_count": null,
      "outputs": [
        {
          "output_type": "execute_result",
          "data": {
            "text/plain": [
              "3"
            ]
          },
          "metadata": {},
          "execution_count": 41
        }
      ]
    },
    {
      "cell_type": "code",
      "source": [
        "b[-1]"
      ],
      "metadata": {
        "colab": {
          "base_uri": "https://localhost:8080/"
        },
        "id": "OEv6wlM98Bra",
        "outputId": "2bc78fa4-ba11-4de3-9c6a-2139ffd93cfc"
      },
      "execution_count": null,
      "outputs": [
        {
          "output_type": "execute_result",
          "data": {
            "text/plain": [
              "11"
            ]
          },
          "metadata": {},
          "execution_count": 42
        }
      ]
    },
    {
      "cell_type": "code",
      "source": [
        "#Resume at 10:03 sharp"
      ],
      "metadata": {
        "id": "myLKM0Fd8FJa"
      },
      "execution_count": null,
      "outputs": []
    },
    {
      "cell_type": "code",
      "source": [
        "b = np.arange(1,15,2)\n",
        "print(b)"
      ],
      "metadata": {
        "colab": {
          "base_uri": "https://localhost:8080/"
        },
        "id": "LB0jNRvT8XBE",
        "outputId": "088b5856-44f7-4ba2-f929-a616a0546f9f"
      },
      "execution_count": null,
      "outputs": [
        {
          "output_type": "stream",
          "name": "stdout",
          "text": [
            "[ 1  3  5  7  9 11 13]\n"
          ]
        }
      ]
    },
    {
      "cell_type": "code",
      "source": [
        "b[2:4]"
      ],
      "metadata": {
        "colab": {
          "base_uri": "https://localhost:8080/"
        },
        "id": "SPR-IGXe--KO",
        "outputId": "8e2e3815-b815-4a06-e2ab-7b24765811e4"
      },
      "execution_count": null,
      "outputs": [
        {
          "output_type": "execute_result",
          "data": {
            "text/plain": [
              "array([5, 7])"
            ]
          },
          "metadata": {},
          "execution_count": 45
        }
      ]
    },
    {
      "cell_type": "code",
      "source": [
        "b[-2]"
      ],
      "metadata": {
        "colab": {
          "base_uri": "https://localhost:8080/"
        },
        "id": "yNQBLyRk_Ip8",
        "outputId": "dba4f06a-11d8-42eb-ce09-c97834d5a620"
      },
      "execution_count": null,
      "outputs": [
        {
          "output_type": "execute_result",
          "data": {
            "text/plain": [
              "11"
            ]
          },
          "metadata": {},
          "execution_count": 46
        }
      ]
    },
    {
      "cell_type": "code",
      "source": [
        "b[3:]"
      ],
      "metadata": {
        "colab": {
          "base_uri": "https://localhost:8080/"
        },
        "id": "FxhnYavx_NI8",
        "outputId": "e110ecd8-462a-40a4-e6ba-bb7bc97790da"
      },
      "execution_count": null,
      "outputs": [
        {
          "output_type": "execute_result",
          "data": {
            "text/plain": [
              "array([ 7,  9, 11, 13])"
            ]
          },
          "metadata": {},
          "execution_count": 47
        }
      ]
    },
    {
      "cell_type": "code",
      "source": [
        "b[:2]"
      ],
      "metadata": {
        "colab": {
          "base_uri": "https://localhost:8080/"
        },
        "id": "KMzWiU0G_UVS",
        "outputId": "b3c5b323-95d6-44f4-d24d-78454dc87e8d"
      },
      "execution_count": null,
      "outputs": [
        {
          "output_type": "execute_result",
          "data": {
            "text/plain": [
              "array([1, 3])"
            ]
          },
          "metadata": {},
          "execution_count": 48
        }
      ]
    },
    {
      "cell_type": "code",
      "source": [
        "#multi-indexing"
      ],
      "metadata": {
        "id": "UOJhepwn_Zd9"
      },
      "execution_count": null,
      "outputs": []
    },
    {
      "cell_type": "code",
      "source": [
        "b[2]"
      ],
      "metadata": {
        "colab": {
          "base_uri": "https://localhost:8080/"
        },
        "id": "xBrR6TPC_fb6",
        "outputId": "8d62da19-49bd-4522-93e7-ad3b4e399cce"
      },
      "execution_count": null,
      "outputs": [
        {
          "output_type": "execute_result",
          "data": {
            "text/plain": [
              "5"
            ]
          },
          "metadata": {},
          "execution_count": 51
        }
      ]
    },
    {
      "cell_type": "code",
      "source": [
        "print(b)"
      ],
      "metadata": {
        "colab": {
          "base_uri": "https://localhost:8080/"
        },
        "id": "F7sQdNKG_jQQ",
        "outputId": "3cc376da-e2e3-4c1a-912f-8a71b9d6ad32"
      },
      "execution_count": null,
      "outputs": [
        {
          "output_type": "stream",
          "name": "stdout",
          "text": [
            "[ 1  3  5  7  9 11 13]\n"
          ]
        }
      ]
    },
    {
      "cell_type": "code",
      "source": [
        "b[5]"
      ],
      "metadata": {
        "colab": {
          "base_uri": "https://localhost:8080/"
        },
        "id": "Z3OBJo4r_kfk",
        "outputId": "c20e01f1-d5bb-4f79-fc94-28b337e04dbb"
      },
      "execution_count": null,
      "outputs": [
        {
          "output_type": "execute_result",
          "data": {
            "text/plain": [
              "11"
            ]
          },
          "metadata": {},
          "execution_count": 53
        }
      ]
    },
    {
      "cell_type": "code",
      "source": [
        "b[ [2,5] ]"
      ],
      "metadata": {
        "colab": {
          "base_uri": "https://localhost:8080/"
        },
        "id": "H4vW_k88_oQc",
        "outputId": "397d2667-5ecc-48d4-dd69-6d4c799f1de6"
      },
      "execution_count": null,
      "outputs": [
        {
          "output_type": "execute_result",
          "data": {
            "text/plain": [
              "array([ 5, 11])"
            ]
          },
          "metadata": {},
          "execution_count": 54
        }
      ]
    },
    {
      "cell_type": "code",
      "source": [
        "print(b)"
      ],
      "metadata": {
        "colab": {
          "base_uri": "https://localhost:8080/"
        },
        "id": "qjx4FvCK_wF3",
        "outputId": "2becb814-de8f-446d-857a-d9ade700e74b"
      },
      "execution_count": null,
      "outputs": [
        {
          "output_type": "stream",
          "name": "stdout",
          "text": [
            "[ 1  3  5  7  9 11 13]\n"
          ]
        }
      ]
    },
    {
      "cell_type": "code",
      "source": [
        "b[ [ 5,2,4]  ]"
      ],
      "metadata": {
        "colab": {
          "base_uri": "https://localhost:8080/"
        },
        "id": "nDwq95Pn_4Md",
        "outputId": "65b18989-5479-4eec-dcc0-6b97f5948707"
      },
      "execution_count": null,
      "outputs": [
        {
          "output_type": "execute_result",
          "data": {
            "text/plain": [
              "array([11,  5,  9])"
            ]
          },
          "metadata": {},
          "execution_count": 58
        }
      ]
    },
    {
      "cell_type": "code",
      "source": [
        "#Quiz\n",
        "\n",
        "import numpy as np\n",
        "\n",
        "arr = np.arange(5)\n",
        "arr[2:4] = 0\n",
        "\n",
        "print(arr)"
      ],
      "metadata": {
        "colab": {
          "base_uri": "https://localhost:8080/"
        },
        "id": "_zqEhgVuADeJ",
        "outputId": "988e6f00-7c5a-41c5-b1de-286247481f2f"
      },
      "execution_count": null,
      "outputs": [
        {
          "output_type": "stream",
          "name": "stdout",
          "text": [
            "[0 1 0 0 4]\n"
          ]
        }
      ]
    },
    {
      "cell_type": "code",
      "source": [
        "#Fancy indexing - Masking"
      ],
      "metadata": {
        "id": "5HbWQe_zAa07"
      },
      "execution_count": null,
      "outputs": []
    },
    {
      "cell_type": "code",
      "source": [
        "a = np.arange(1,12)\n",
        "print(a)"
      ],
      "metadata": {
        "colab": {
          "base_uri": "https://localhost:8080/"
        },
        "id": "5L28te45A1Yt",
        "outputId": "9bd24ea5-3965-4957-e741-7168699e7c53"
      },
      "execution_count": null,
      "outputs": [
        {
          "output_type": "stream",
          "name": "stdout",
          "text": [
            "[ 1  2  3  4  5  6  7  8  9 10 11]\n"
          ]
        }
      ]
    },
    {
      "cell_type": "code",
      "source": [
        "b = a < 6\n",
        "print(b)"
      ],
      "metadata": {
        "colab": {
          "base_uri": "https://localhost:8080/"
        },
        "id": "7T2uY543A_KY",
        "outputId": "3bc2f3d3-9658-4acb-9857-cc4a22e553a2"
      },
      "execution_count": null,
      "outputs": [
        {
          "output_type": "stream",
          "name": "stdout",
          "text": [
            "[ True  True  True  True  True False False False False False False]\n"
          ]
        }
      ]
    },
    {
      "cell_type": "code",
      "source": [
        "print(a[a<6])"
      ],
      "metadata": {
        "colab": {
          "base_uri": "https://localhost:8080/"
        },
        "id": "nVaZ2ZXvBMkr",
        "outputId": "09fb0355-51c2-4c25-c095-0ac906c18570"
      },
      "execution_count": null,
      "outputs": [
        {
          "output_type": "stream",
          "name": "stdout",
          "text": [
            "[1 2 3 4 5]\n"
          ]
        }
      ]
    },
    {
      "cell_type": "code",
      "source": [
        "#filter all the even elements using fancy indexing\n",
        "\n",
        "b = a[a%2 == 0]\n",
        "print(b)"
      ],
      "metadata": {
        "colab": {
          "base_uri": "https://localhost:8080/"
        },
        "id": "dKv7QXX-Bdb8",
        "outputId": "c5c0b5ee-e109-4a7f-c5c9-e9c17175dd19"
      },
      "execution_count": null,
      "outputs": [
        {
          "output_type": "stream",
          "name": "stdout",
          "text": [
            "[ 2  4  6  8 10]\n"
          ]
        }
      ]
    },
    {
      "cell_type": "code",
      "source": [
        "#filter all the odd elements using fancy indexing\n",
        "\n",
        "b = a[a%2 != 0]\n",
        "print(b)"
      ],
      "metadata": {
        "colab": {
          "base_uri": "https://localhost:8080/"
        },
        "id": "yEJZH9Z0CBF1",
        "outputId": "bd836d62-fa98-42c1-a50b-4a21fea0608e"
      },
      "execution_count": null,
      "outputs": [
        {
          "output_type": "stream",
          "name": "stdout",
          "text": [
            "[ 1  3  5  7  9 11]\n"
          ]
        }
      ]
    },
    {
      "cell_type": "code",
      "source": [
        "#Quiz:\n",
        "\n",
        "import numpy as np\n",
        "a = np.array([0,1,2,3,4,5])\n",
        "a[4:] = 10\n",
        "print(a)"
      ],
      "metadata": {
        "colab": {
          "base_uri": "https://localhost:8080/"
        },
        "id": "0RHSPNNlCKfR",
        "outputId": "a3fb736b-bbee-4d17-d627-ec8ff3c5ca16"
      },
      "execution_count": null,
      "outputs": [
        {
          "output_type": "stream",
          "name": "stdout",
          "text": [
            "[ 0  1  2  3 10 10]\n"
          ]
        }
      ]
    },
    {
      "cell_type": "code",
      "source": [
        "#doubt\n",
        "import numpy as np\n",
        "a = np.array([0,1,2,3,4,5])\n",
        "print(a[4:])"
      ],
      "metadata": {
        "colab": {
          "base_uri": "https://localhost:8080/"
        },
        "id": "lqpGuIpPC6N2",
        "outputId": "3a1cdcd3-14f5-4b5f-ea8d-365f5bf68ee9"
      },
      "execution_count": null,
      "outputs": [
        {
          "output_type": "stream",
          "name": "stdout",
          "text": [
            "[4 5]\n"
          ]
        }
      ]
    },
    {
      "cell_type": "code",
      "source": [
        "#Quiz\n",
        "a = [1,2,3,4,5]\n",
        "b = [8,7,6]\n",
        "a[2:] = b[::-1]"
      ],
      "metadata": {
        "id": "wMjSEy3EDp9c"
      },
      "execution_count": null,
      "outputs": []
    },
    {
      "cell_type": "code",
      "source": [
        "print(a)"
      ],
      "metadata": {
        "colab": {
          "base_uri": "https://localhost:8080/"
        },
        "id": "5qf2Iru4ECb3",
        "outputId": "e459887d-e721-499e-a190-eae62d776064"
      },
      "execution_count": null,
      "outputs": [
        {
          "output_type": "stream",
          "name": "stdout",
          "text": [
            "[1, 2, 6, 7, 8]\n"
          ]
        }
      ]
    },
    {
      "cell_type": "code",
      "source": [
        "#Quiz\n",
        "\n",
        "a = [1,2,3,4,5]\n",
        "b = [8,7,6]\n",
        "a[3:] = b[::-2]\n",
        "print(a)"
      ],
      "metadata": {
        "colab": {
          "base_uri": "https://localhost:8080/"
        },
        "id": "WLTvt-tXED3N",
        "outputId": "c39a3a9c-5511-45ff-d3f5-7f54229b1ee0"
      },
      "execution_count": null,
      "outputs": [
        {
          "output_type": "stream",
          "name": "stdout",
          "text": [
            "[1, 2, 3, 6, 8]\n"
          ]
        }
      ]
    },
    {
      "cell_type": "code",
      "source": [
        "#NPS: Net Promoter Score"
      ],
      "metadata": {
        "id": "8pYJLbzDEVX9"
      },
      "execution_count": null,
      "outputs": []
    },
    {
      "cell_type": "code",
      "source": [
        "score = np.loadtxt(\"survey.txt\", dtype = \"int\")\n",
        "print(score[:5])"
      ],
      "metadata": {
        "colab": {
          "base_uri": "https://localhost:8080/"
        },
        "id": "OBMg3SFtEuL3",
        "outputId": "1ae3a9c9-d44e-48ae-d39a-6b8ce6ad1fdb"
      },
      "execution_count": null,
      "outputs": [
        {
          "output_type": "stream",
          "name": "stdout",
          "text": [
            "[ 7 10  5  9  9]\n"
          ]
        }
      ]
    },
    {
      "cell_type": "markdown",
      "source": [
        "<img src=\"https://drive.google.com/uc?id=1-u8e-v_90JdikorKsKzBM-JJqoRtzsN8\">"
      ],
      "metadata": {
        "id": "2qjhgyatFnfL"
      }
    },
    {
      "cell_type": "markdown",
      "source": [
        "<img src=\"https://drive.google.com/uc?id=1KPIYlaN68vlL99iApaF5QbeBoyT24-Eu\">"
      ],
      "metadata": {
        "id": "QmAGfT-vFvL5"
      }
    },
    {
      "cell_type": "code",
      "source": [
        "score[:10]"
      ],
      "metadata": {
        "colab": {
          "base_uri": "https://localhost:8080/"
        },
        "id": "ulkzdbEOFfjs",
        "outputId": "e04cc88f-6422-4b00-c9ae-fa9a763862fe"
      },
      "execution_count": null,
      "outputs": [
        {
          "output_type": "execute_result",
          "data": {
            "text/plain": [
              "array([ 7, 10,  5,  9,  9,  4,  7,  9,  9,  9])"
            ]
          },
          "metadata": {},
          "execution_count": 75
        }
      ]
    },
    {
      "cell_type": "code",
      "source": [
        "score.shape"
      ],
      "metadata": {
        "colab": {
          "base_uri": "https://localhost:8080/"
        },
        "id": "4x8hEmIiGYDX",
        "outputId": "ab1d1e9c-f354-4786-ed37-416f90462443"
      },
      "execution_count": null,
      "outputs": [
        {
          "output_type": "execute_result",
          "data": {
            "text/plain": [
              "(1167,)"
            ]
          },
          "metadata": {},
          "execution_count": 76
        }
      ]
    },
    {
      "cell_type": "code",
      "source": [
        "promoters_rating = score[score > 8]\n",
        "print(promoters_rating)"
      ],
      "metadata": {
        "colab": {
          "base_uri": "https://localhost:8080/"
        },
        "id": "w5irHwyVGe52",
        "outputId": "9fcf6676-9878-4850-fb7e-03c403c36b0a"
      },
      "execution_count": null,
      "outputs": [
        {
          "output_type": "stream",
          "name": "stdout",
          "text": [
            "[10  9  9  9  9  9 10  9  9 10  9  9  9  9  9  9  9 10 10  9 10  9 10  9\n",
            "  9 10 10  9 10  9 10 10 10  9  9 10 10 10  9 10  9 10  9  9  9 10  9  9\n",
            "  9  9  9  9 10  9  9  9 10  9 10  9  9  9  9  9 10 10  9 10  9  9 10  9\n",
            "  9 10  9  9  9  9  9  9  9  9  9  9  9 10  9  9  9  9  9  9  9  9 10  9\n",
            "  9  9  9  9 10 10  9 10 10 10 10  9 10  9  9  9  9  9  9  9 10  9 10  9\n",
            " 10  9 10 10 10  9  9 10 10  9  9  9  9 10  9  9  9  9 10 10  9  9  9 10\n",
            "  9  9  9  9  9 10  9  9  9 10  9 10 10  9  9  9  9 10  9 10  9  9  9  9\n",
            " 10  9 10  9  9  9  9  9  9  9  9  9  9  9 10 10  9  9  9 10  9 10 10 10\n",
            " 10 10  9  9  9  9 10 10 10  9  9 10  9 10 10 10 10  9 10 10  9 10  9  9\n",
            "  9  9 10  9 10  9 10  9  9  9  9 10  9  9  9  9  9 10  9 10 10  9 10 10\n",
            " 10  9  9  9  9  9  9 10  9  9 10  9 10 10  9  9  9 10 10 10 10  9  9  9\n",
            " 10 10  9 10  9  9  9 10  9  9  9  9  9  9  9  9  9  9 10  9  9  9 10  9\n",
            " 10  9 10  9 10  9  9 10 10  9  9  9 10  9  9 10  9  9  9  9  9  9 10 10\n",
            "  9 10  9  9  9  9 10  9  9  9  9 10  9 10  9 10  9 10 10  9 10 10  9 10\n",
            "  9  9  9  9  9 10  9 10 10  9 10 10  9  9 10  9 10 10  9 10 10 10  9  9\n",
            "  9 10  9  9  9 10  9  9  9  9  9 10  9  9  9 10  9  9  9  9  9 10  9 10\n",
            "  9  9 10  9  9  9  9  9  9 10  9  9  9  9  9  9  9  9  9  9 10  9 10  9\n",
            "  9  9  9  9  9  9  9  9  9  9  9  9  9 10 10  9  9  9  9 10  9 10  9 10\n",
            " 10  9  9 10  9 10 10 10  9  9  9 10 10  9  9  9 10  9  9  9  9 10  9 10\n",
            "  9  9 10  9  9  9 10  9  9  9  9 10  9  9  9  9  9  9 10  9 10 10  9  9\n",
            "  9 10 10 10 10  9  9 10 10  9 10  9 10  9 10  9  9 10  9 10 10  9  9  9\n",
            "  9  9  9  9  9  9  9  9  9  9  9  9  9  9  9  9  9  9  9  9  9  9  9 10\n",
            " 10  9  9  9  9 10 10  9 10 10  9 10 10  9 10 10 10  9  9 10 10 10  9  9\n",
            " 10 10  9  9  9  9  9  9 10 10 10 10 10 10  9  9  9  9 10 10  9  9  9  9\n",
            "  9 10 10  9 10 10  9 10 10  9 10 10  9 10  9 10 10  9 10 10  9  9  9  9\n",
            " 10  9  9 10 10 10 10  9 10]\n"
          ]
        }
      ]
    },
    {
      "cell_type": "code",
      "source": [
        "promoters_count = len(promoters_rating)\n",
        "print(promoters_count)"
      ],
      "metadata": {
        "colab": {
          "base_uri": "https://localhost:8080/"
        },
        "id": "xbuS_i_mGnje",
        "outputId": "07bcee3b-b4ed-461a-bdae-0847fb3ed927"
      },
      "execution_count": null,
      "outputs": [
        {
          "output_type": "stream",
          "name": "stdout",
          "text": [
            "609\n"
          ]
        }
      ]
    },
    {
      "cell_type": "code",
      "source": [
        "detractors = score[score < 7]\n",
        "print(detractors)"
      ],
      "metadata": {
        "colab": {
          "base_uri": "https://localhost:8080/"
        },
        "id": "3PzB0O35GvX4",
        "outputId": "6f1ea021-9c98-4fa5-d5ea-2678e55a7a90"
      },
      "execution_count": null,
      "outputs": [
        {
          "output_type": "stream",
          "name": "stdout",
          "text": [
            "[5 4 4 5 1 5 5 1 4 5 4 4 4 5 1 4 1 4 1 5 5 1 1 4 1 5 4 1 1 4 1 5 1 4 4 1 1\n",
            " 1 1 1 1 1 4 1 1 5 5 5 4 4 1 4 1 4 1 5 1 1 5 4 4 4 4 1 4 5 4 4 1 1 5 5 1 5\n",
            " 1 5 5 4 5 4 1 1 1 1 4 1 4 4 5 4 1 1 1 1 5 4 5 5 4 1 5 1 4 4 1 1 1 4 4 5 5\n",
            " 4 5 5 5 1 4 1 5 5 1 5 1 1 5 5 4 4 1 4 4 4 1 1 4 4 4 5 5 1 1 4 1 4 1 4 1 4\n",
            " 1 4 1 5 4 4 5 1 4 5 5 5 1 5 4 1 1 5 5 5 4 5 4 4 1 4 4 4 4 5 1 5 5 1 4 4 5\n",
            " 1 1 4 5 5 5 1 4 5 5 4 1 5 5 5 1 1 5 5 1 1 1 4 5 5 4 4 4 5 1 4 1 4 5 4 5 5\n",
            " 1 5 1 5 5 1 4 5 5 4 1 5 1 4 1 4 1 1 1 1 1 1 4 1 5 4 5 1 5 1 5 4 4 4 4 5 5\n",
            " 1 4 1 5 5 1 4 1 1 4 4 4 4 1 4 1 1 4 1 5 4 1 1 5 4 5 4 4 4 1 5 5 1 4 5 4 4\n",
            " 4 1 4 1 4 4 4 5 1 1 1 4 5 5 1 5 4 5 5 4 1 1 5 5 5 1 4 5 4 5 5 5 1 4 1 5]\n"
          ]
        }
      ]
    },
    {
      "cell_type": "code",
      "source": [
        "detractors_count = len(detractors)\n",
        "print(detractors_count)"
      ],
      "metadata": {
        "colab": {
          "base_uri": "https://localhost:8080/"
        },
        "id": "ir62VhqgHOai",
        "outputId": "b693d82b-2342-4f29-d122-67a2f907916a"
      },
      "execution_count": null,
      "outputs": [
        {
          "output_type": "stream",
          "name": "stdout",
          "text": [
            "332\n"
          ]
        }
      ]
    },
    {
      "cell_type": "code",
      "source": [
        "609 + 332"
      ],
      "metadata": {
        "colab": {
          "base_uri": "https://localhost:8080/"
        },
        "id": "POgApA2lHVRd",
        "outputId": "c377e37d-db9f-49dd-80d6-16870edd29fb"
      },
      "execution_count": null,
      "outputs": [
        {
          "output_type": "execute_result",
          "data": {
            "text/plain": [
              "941"
            ]
          },
          "metadata": {},
          "execution_count": 81
        }
      ]
    },
    {
      "cell_type": "code",
      "source": [
        "#HW --> Try to validate the number of passives"
      ],
      "metadata": {
        "id": "xsNFf8STHZmI"
      },
      "execution_count": null,
      "outputs": []
    },
    {
      "cell_type": "code",
      "source": [
        "total = len(score)\n",
        "print(total)"
      ],
      "metadata": {
        "colab": {
          "base_uri": "https://localhost:8080/"
        },
        "id": "FETvOTvfHmgp",
        "outputId": "62bd35a2-2274-4cc5-c1cb-dbe785893c39"
      },
      "execution_count": null,
      "outputs": [
        {
          "output_type": "stream",
          "name": "stdout",
          "text": [
            "1167\n"
          ]
        }
      ]
    },
    {
      "cell_type": "code",
      "source": [
        "perc_promoters = promoters_count*100/total\n",
        "print(perc_promoters)"
      ],
      "metadata": {
        "colab": {
          "base_uri": "https://localhost:8080/"
        },
        "id": "mZRPgx-_HuQx",
        "outputId": "d35883bf-071f-420a-9ff2-b76fc62e3ad5"
      },
      "execution_count": null,
      "outputs": [
        {
          "output_type": "stream",
          "name": "stdout",
          "text": [
            "52.18508997429306\n"
          ]
        }
      ]
    },
    {
      "cell_type": "code",
      "source": [
        "perc_detractors = detractors_count*100/total\n",
        "print(perc_detractors)"
      ],
      "metadata": {
        "colab": {
          "base_uri": "https://localhost:8080/"
        },
        "id": "5ikcnGVkH2P2",
        "outputId": "7a742869-90f1-4e60-f7af-1ea54755720a"
      },
      "execution_count": null,
      "outputs": [
        {
          "output_type": "stream",
          "name": "stdout",
          "text": [
            "28.449014567266495\n"
          ]
        }
      ]
    },
    {
      "cell_type": "code",
      "source": [
        "nps = perc_promoters - perc_detractors\n",
        "print(nps)"
      ],
      "metadata": {
        "colab": {
          "base_uri": "https://localhost:8080/"
        },
        "id": "6xKtOFHJH_yZ",
        "outputId": "fe389ea7-0f58-4d29-ce6b-3d895a14d051"
      },
      "execution_count": null,
      "outputs": [
        {
          "output_type": "stream",
          "name": "stdout",
          "text": [
            "23.73607540702656\n"
          ]
        }
      ]
    },
    {
      "cell_type": "code",
      "source": [
        "nps = np.round(nps, 2)\n",
        "print(nps)"
      ],
      "metadata": {
        "colab": {
          "base_uri": "https://localhost:8080/"
        },
        "id": "EQI7a5BTIGm-",
        "outputId": "b0f73ae7-e524-4933-82c7-60bf2c270d2b"
      },
      "execution_count": null,
      "outputs": [
        {
          "output_type": "stream",
          "name": "stdout",
          "text": [
            "23.74\n"
          ]
        }
      ]
    },
    {
      "cell_type": "code",
      "source": [
        "score.min()"
      ],
      "metadata": {
        "colab": {
          "base_uri": "https://localhost:8080/"
        },
        "id": "Ilubu5VbIfnV",
        "outputId": "9f6fad84-8404-4f7c-84c1-b3215cf1f613"
      },
      "execution_count": null,
      "outputs": [
        {
          "output_type": "execute_result",
          "data": {
            "text/plain": [
              "1"
            ]
          },
          "metadata": {},
          "execution_count": 91
        }
      ]
    },
    {
      "cell_type": "code",
      "source": [
        "score.max()"
      ],
      "metadata": {
        "colab": {
          "base_uri": "https://localhost:8080/"
        },
        "id": "boFjm3u1ImVy",
        "outputId": "15caca3e-1d23-429d-c4ed-5b066544bc07"
      },
      "execution_count": null,
      "outputs": [
        {
          "output_type": "execute_result",
          "data": {
            "text/plain": [
              "10"
            ]
          },
          "metadata": {},
          "execution_count": 92
        }
      ]
    },
    {
      "cell_type": "code",
      "source": [],
      "metadata": {
        "id": "uegglGbtItrq"
      },
      "execution_count": null,
      "outputs": []
    }
  ]
}