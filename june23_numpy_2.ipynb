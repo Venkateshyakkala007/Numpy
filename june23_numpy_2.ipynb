{
  "nbformat": 4,
  "nbformat_minor": 0,
  "metadata": {
    "colab": {
      "provenance": [],
      "include_colab_link": true
    },
    "kernelspec": {
      "name": "python3",
      "display_name": "Python 3"
    },
    "language_info": {
      "name": "python"
    }
  },
  "cells": [
    {
      "cell_type": "markdown",
      "metadata": {
        "id": "view-in-github",
        "colab_type": "text"
      },
      "source": [
        "<a href=\"https://colab.research.google.com/github/Venkateshyakkala007/Numpy/blob/main/june23_numpy_2.ipynb\" target=\"_parent\"><img src=\"https://colab.research.google.com/assets/colab-badge.svg\" alt=\"Open In Colab\"/></a>"
      ]
    },
    {
      "cell_type": "code",
      "execution_count": null,
      "metadata": {
        "id": "hhP_tt5QErde"
      },
      "outputs": [],
      "source": [
        "import numpy as np"
      ]
    },
    {
      "cell_type": "code",
      "source": [
        "data = np.loadtxt(\"fit.txt\", dtype = \"str\")"
      ],
      "metadata": {
        "id": "nfBNJ-AfFMFL"
      },
      "execution_count": null,
      "outputs": []
    },
    {
      "cell_type": "code",
      "source": [
        "print(data)"
      ],
      "metadata": {
        "colab": {
          "base_uri": "https://localhost:8080/"
        },
        "id": "V4IgsPlEFXTR",
        "outputId": "ee22084d-4760-4506-b09a-27e7039f7df0"
      },
      "execution_count": null,
      "outputs": [
        {
          "output_type": "stream",
          "name": "stdout",
          "text": [
            "[['06-10-2017' '5464' 'Neutral' '181' '5' 'Inactive']\n",
            " ['07-10-2017' '6041' 'Sad' '197' '8' 'Inactive']\n",
            " ['08-10-2017' '25' 'Sad' '0' '5' 'Inactive']\n",
            " ['09-10-2017' '5461' 'Sad' '174' '4' 'Inactive']\n",
            " ['10-10-2017' '6915' 'Neutral' '223' '5' 'Active']\n",
            " ['11-10-2017' '4545' 'Sad' '149' '6' 'Inactive']\n",
            " ['12-10-2017' '4340' 'Sad' '140' '6' 'Inactive']\n",
            " ['13-10-2017' '1230' 'Sad' '38' '7' 'Inactive']\n",
            " ['14-10-2017' '61' 'Sad' '1' '5' 'Inactive']\n",
            " ['15-10-2017' '1258' 'Sad' '40' '6' 'Inactive']\n",
            " ['16-10-2017' '3148' 'Sad' '101' '8' 'Inactive']\n",
            " ['17-10-2017' '4687' 'Sad' '152' '5' 'Inactive']\n",
            " ['18-10-2017' '4732' 'Happy' '150' '6' 'Active']\n",
            " ['19-10-2017' '3519' 'Sad' '113' '7' 'Inactive']\n",
            " ['20-10-2017' '1580' 'Sad' '49' '5' 'Inactive']\n",
            " ['21-10-2017' '2822' 'Sad' '86' '6' 'Inactive']\n",
            " ['22-10-2017' '181' 'Sad' '6' '8' 'Inactive']\n",
            " ['23-10-2017' '3158' 'Neutral' '99' '5' 'Inactive']\n",
            " ['24-10-2017' '4383' 'Neutral' '143' '4' 'Inactive']\n",
            " ['25-10-2017' '3881' 'Neutral' '125' '5' 'Inactive']\n",
            " ['26-10-2017' '4037' 'Neutral' '129' '6' 'Inactive']\n",
            " ['27-10-2017' '202' 'Neutral' '6' '8' 'Inactive']\n",
            " ['28-10-2017' '292' 'Neutral' '9' '5' 'Inactive']\n",
            " ['29-10-2017' '330' 'Happy' '10' '6' 'Inactive']\n",
            " ['30-10-2017' '2209' 'Neutral' '72' '5' 'Inactive']\n",
            " ['31-10-2017' '4550' 'Happy' '150' '8' 'Active']\n",
            " ['01-11-2017' '4435' 'Happy' '141' '5' 'Inactive']\n",
            " ['02-11-2017' '4779' 'Happy' '156' '4' 'Inactive']\n",
            " ['03-11-2017' '1831' 'Happy' '57' '5' 'Inactive']\n",
            " ['04-11-2017' '2255' 'Happy' '72' '4' 'Inactive']\n",
            " ['05-11-2017' '539' 'Happy' '17' '5' 'Active']\n",
            " ['06-11-2017' '5464' 'Happy' '181' '4' 'Inactive']\n",
            " ['07-11-2017' '6041' 'Neutral' '197' '3' 'Inactive']\n",
            " ['08-11-2017' '4068' 'Happy' '131' '2' 'Inactive']\n",
            " ['09-11-2017' '4683' 'Happy' '154' '9' 'Inactive']\n",
            " ['10-11-2017' '4033' 'Happy' '137' '5' 'Inactive']\n",
            " ['11-11-2017' '6314' 'Happy' '193' '6' 'Active']\n",
            " ['12-11-2017' '614' 'Happy' '19' '4' 'Active']\n",
            " ['13-11-2017' '3149' 'Happy' '101' '5' 'Active']\n",
            " ['14-11-2017' '4005' 'Happy' '139' '8' 'Active']\n",
            " ['15-11-2017' '4880' 'Happy' '164' '4' 'Active']\n",
            " ['16-11-2017' '4136' 'Happy' '137' '5' 'Active']\n",
            " ['17-11-2017' '705' 'Happy' '22' '6' 'Active']\n",
            " ['18-11-2017' '570' 'Neutral' '17' '5' 'Active']\n",
            " ['19-11-2017' '269' 'Happy' '9' '6' 'Active']\n",
            " ['20-11-2017' '4275' 'Happy' '145' '5' 'Inactive']\n",
            " ['21-11-2017' '5999' 'Happy' '192' '6' 'Inactive']\n",
            " ['22-11-2017' '4421' 'Happy' '146' '5' 'Inactive']\n",
            " ['23-11-2017' '6930' 'Happy' '234' '6' 'Inactive']\n",
            " ['24-11-2017' '5195' 'Happy' '167' '5' 'Inactive']\n",
            " ['25-11-2017' '546' 'Happy' '16' '6' 'Inactive']\n",
            " ['26-11-2017' '493' 'Happy' '17' '7' 'Active']\n",
            " ['27-11-2017' '995' 'Happy' '32' '6' 'Active']\n",
            " ['28-11-2017' '1163' 'Neutral' '35' '7' 'Active']\n",
            " ['29-11-2017' '6676' 'Sad' '220' '6' 'Active']\n",
            " ['30-11-2017' '3608' 'Happy' '116' '5' 'Active']\n",
            " ['01-12-2017' '774' 'Happy' '23' '6' 'Active']\n",
            " ['02-12-2017' '1421' 'Happy' '44' '7' 'Active']\n",
            " ['03-12-2017' '4064' 'Happy' '131' '8' 'Active']\n",
            " ['04-12-2017' '2725' 'Happy' '86' '8' 'Active']\n",
            " ['05-12-2017' '5934' 'Happy' '194' '7' 'Active']\n",
            " ['06-12-2017' '1867' 'Happy' '60' '8' 'Active']\n",
            " ['07-12-2017' '3721' 'Sad' '121' '5' 'Active']\n",
            " ['08-12-2017' '2374' 'Neutral' '76' '4' 'Inactive']\n",
            " ['09-12-2017' '2909' 'Neutral' '93' '3' 'Active']\n",
            " ['10-12-2017' '1648' 'Sad' '53' '3' 'Active']\n",
            " ['11-12-2017' '799' 'Sad' '25' '4' 'Inactive']\n",
            " ['12-12-2017' '7102' 'Neutral' '227' '5' 'Active']\n",
            " ['13-12-2017' '3941' 'Neutral' '125' '5' 'Active']\n",
            " ['14-12-2017' '7422' 'Happy' '243' '5' 'Active']\n",
            " ['15-12-2017' '437' 'Neutral' '14' '3' 'Active']\n",
            " ['16-12-2017' '1231' 'Neutral' '39' '4' 'Active']\n",
            " ['17-12-2017' '1696' 'Sad' '55' '4' 'Inactive']\n",
            " ['18-12-2017' '4921' 'Neutral' '158' '5' 'Active']\n",
            " ['19-12-2017' '221' 'Sad' '7' '5' 'Active']\n",
            " ['20-12-2017' '6500' 'Neutral' '213' '5' 'Active']\n",
            " ['21-12-2017' '3575' 'Neutral' '116' '5' 'Active']\n",
            " ['22-12-2017' '4061' 'Sad' '129' '5' 'Inactive']\n",
            " ['23-12-2017' '651' 'Sad' '21' '5' 'Inactive']\n",
            " ['24-12-2017' '753' 'Sad' '28' '4' 'Inactive']\n",
            " ['25-12-2017' '518' 'Sad' '16' '3' 'Inactive']\n",
            " ['26-12-2017' '5537' 'Happy' '180' '4' 'Active']\n",
            " ['27-12-2017' '4108' 'Neutral' '138' '5' 'Active']\n",
            " ['28-12-2017' '5376' 'Happy' '176' '5' 'Active']\n",
            " ['29-12-2017' '3066' 'Neutral' '99' '4' 'Active']\n",
            " ['30-12-2017' '177' 'Sad' '5' '5' 'Inactive']\n",
            " ['31-12-2017' '36' 'Sad' '1' '3' 'Inactive']\n",
            " ['01-01-2018' '299' 'Sad' '10' '3' 'Inactive']\n",
            " ['02-01-2018' '1447' 'Neutral' '47' '3' 'Inactive']\n",
            " ['03-01-2018' '2599' 'Neutral' '84' '2' 'Inactive']\n",
            " ['04-01-2018' '702' 'Sad' '23' '3' 'Inactive']\n",
            " ['05-01-2018' '133' 'Sad' '4' '2' 'Inactive']\n",
            " ['06-01-2018' '153' 'Happy' '0' '8' 'Inactive']\n",
            " ['07-01-2018' '500' 'Neutral' '0' '5' 'Active']\n",
            " ['08-01-2018' '2127' 'Neutral' '0' '5' 'Inactive']\n",
            " ['09-01-2018' '2203' 'Happy' '0' '5' 'Active']]\n"
          ]
        }
      ]
    },
    {
      "cell_type": "code",
      "source": [
        "data.ndim"
      ],
      "metadata": {
        "colab": {
          "base_uri": "https://localhost:8080/"
        },
        "id": "Ny4gBYfrFYy-",
        "outputId": "bb269766-3e4f-46f8-e293-0d897dfeeaad"
      },
      "execution_count": null,
      "outputs": [
        {
          "output_type": "execute_result",
          "data": {
            "text/plain": [
              "2"
            ]
          },
          "metadata": {},
          "execution_count": 4
        }
      ]
    },
    {
      "cell_type": "code",
      "source": [
        "data.shape"
      ],
      "metadata": {
        "colab": {
          "base_uri": "https://localhost:8080/"
        },
        "id": "MsTY1oUsFinU",
        "outputId": "24779a9d-cc23-46e8-ccc7-295a3469f9bd"
      },
      "execution_count": null,
      "outputs": [
        {
          "output_type": "execute_result",
          "data": {
            "text/plain": [
              "(96, 6)"
            ]
          },
          "metadata": {},
          "execution_count": 5
        }
      ]
    },
    {
      "cell_type": "code",
      "source": [
        "print(data[0])"
      ],
      "metadata": {
        "colab": {
          "base_uri": "https://localhost:8080/"
        },
        "id": "UmQWXgLkFj7V",
        "outputId": "0b5e6c62-e44e-4fa3-dc83-47b9a4766a07"
      },
      "execution_count": null,
      "outputs": [
        {
          "output_type": "stream",
          "name": "stdout",
          "text": [
            "['06-10-2017' '5464' 'Neutral' '181' '5' 'Inactive']\n"
          ]
        }
      ]
    },
    {
      "cell_type": "code",
      "source": [
        "print(data[2])"
      ],
      "metadata": {
        "colab": {
          "base_uri": "https://localhost:8080/"
        },
        "id": "IB6VRmRnFwms",
        "outputId": "39ba1229-cc02-4bd2-96d5-8d028a8a67a3"
      },
      "execution_count": null,
      "outputs": [
        {
          "output_type": "stream",
          "name": "stdout",
          "text": [
            "['08-10-2017' '25' 'Sad' '0' '5' 'Inactive']\n"
          ]
        }
      ]
    },
    {
      "cell_type": "code",
      "source": [
        "print(data[:5])"
      ],
      "metadata": {
        "colab": {
          "base_uri": "https://localhost:8080/"
        },
        "id": "k-9cyLDSGFQ3",
        "outputId": "9ede234e-730b-4da5-bef7-0108cfced640"
      },
      "execution_count": null,
      "outputs": [
        {
          "output_type": "stream",
          "name": "stdout",
          "text": [
            "[['06-10-2017' '5464' 'Neutral' '181' '5' 'Inactive']\n",
            " ['07-10-2017' '6041' 'Sad' '197' '8' 'Inactive']\n",
            " ['08-10-2017' '25' 'Sad' '0' '5' 'Inactive']\n",
            " ['09-10-2017' '5461' 'Sad' '174' '4' 'Inactive']\n",
            " ['10-10-2017' '6915' 'Neutral' '223' '5' 'Active']]\n"
          ]
        }
      ]
    },
    {
      "cell_type": "code",
      "source": [
        "data_t = data.T #Transpose\n",
        "print(data_t)"
      ],
      "metadata": {
        "colab": {
          "base_uri": "https://localhost:8080/"
        },
        "id": "hvBIzI7VGNFq",
        "outputId": "329497a8-85c7-454b-8506-c0e5fc5a0dff"
      },
      "execution_count": null,
      "outputs": [
        {
          "output_type": "stream",
          "name": "stdout",
          "text": [
            "[['06-10-2017' '07-10-2017' '08-10-2017' '09-10-2017' '10-10-2017'\n",
            "  '11-10-2017' '12-10-2017' '13-10-2017' '14-10-2017' '15-10-2017'\n",
            "  '16-10-2017' '17-10-2017' '18-10-2017' '19-10-2017' '20-10-2017'\n",
            "  '21-10-2017' '22-10-2017' '23-10-2017' '24-10-2017' '25-10-2017'\n",
            "  '26-10-2017' '27-10-2017' '28-10-2017' '29-10-2017' '30-10-2017'\n",
            "  '31-10-2017' '01-11-2017' '02-11-2017' '03-11-2017' '04-11-2017'\n",
            "  '05-11-2017' '06-11-2017' '07-11-2017' '08-11-2017' '09-11-2017'\n",
            "  '10-11-2017' '11-11-2017' '12-11-2017' '13-11-2017' '14-11-2017'\n",
            "  '15-11-2017' '16-11-2017' '17-11-2017' '18-11-2017' '19-11-2017'\n",
            "  '20-11-2017' '21-11-2017' '22-11-2017' '23-11-2017' '24-11-2017'\n",
            "  '25-11-2017' '26-11-2017' '27-11-2017' '28-11-2017' '29-11-2017'\n",
            "  '30-11-2017' '01-12-2017' '02-12-2017' '03-12-2017' '04-12-2017'\n",
            "  '05-12-2017' '06-12-2017' '07-12-2017' '08-12-2017' '09-12-2017'\n",
            "  '10-12-2017' '11-12-2017' '12-12-2017' '13-12-2017' '14-12-2017'\n",
            "  '15-12-2017' '16-12-2017' '17-12-2017' '18-12-2017' '19-12-2017'\n",
            "  '20-12-2017' '21-12-2017' '22-12-2017' '23-12-2017' '24-12-2017'\n",
            "  '25-12-2017' '26-12-2017' '27-12-2017' '28-12-2017' '29-12-2017'\n",
            "  '30-12-2017' '31-12-2017' '01-01-2018' '02-01-2018' '03-01-2018'\n",
            "  '04-01-2018' '05-01-2018' '06-01-2018' '07-01-2018' '08-01-2018'\n",
            "  '09-01-2018']\n",
            " ['5464' '6041' '25' '5461' '6915' '4545' '4340' '1230' '61' '1258'\n",
            "  '3148' '4687' '4732' '3519' '1580' '2822' '181' '3158' '4383' '3881'\n",
            "  '4037' '202' '292' '330' '2209' '4550' '4435' '4779' '1831' '2255'\n",
            "  '539' '5464' '6041' '4068' '4683' '4033' '6314' '614' '3149' '4005'\n",
            "  '4880' '4136' '705' '570' '269' '4275' '5999' '4421' '6930' '5195'\n",
            "  '546' '493' '995' '1163' '6676' '3608' '774' '1421' '4064' '2725'\n",
            "  '5934' '1867' '3721' '2374' '2909' '1648' '799' '7102' '3941' '7422'\n",
            "  '437' '1231' '1696' '4921' '221' '6500' '3575' '4061' '651' '753' '518'\n",
            "  '5537' '4108' '5376' '3066' '177' '36' '299' '1447' '2599' '702' '133'\n",
            "  '153' '500' '2127' '2203']\n",
            " ['Neutral' 'Sad' 'Sad' 'Sad' 'Neutral' 'Sad' 'Sad' 'Sad' 'Sad' 'Sad'\n",
            "  'Sad' 'Sad' 'Happy' 'Sad' 'Sad' 'Sad' 'Sad' 'Neutral' 'Neutral'\n",
            "  'Neutral' 'Neutral' 'Neutral' 'Neutral' 'Happy' 'Neutral' 'Happy'\n",
            "  'Happy' 'Happy' 'Happy' 'Happy' 'Happy' 'Happy' 'Neutral' 'Happy'\n",
            "  'Happy' 'Happy' 'Happy' 'Happy' 'Happy' 'Happy' 'Happy' 'Happy' 'Happy'\n",
            "  'Neutral' 'Happy' 'Happy' 'Happy' 'Happy' 'Happy' 'Happy' 'Happy'\n",
            "  'Happy' 'Happy' 'Neutral' 'Sad' 'Happy' 'Happy' 'Happy' 'Happy' 'Happy'\n",
            "  'Happy' 'Happy' 'Sad' 'Neutral' 'Neutral' 'Sad' 'Sad' 'Neutral'\n",
            "  'Neutral' 'Happy' 'Neutral' 'Neutral' 'Sad' 'Neutral' 'Sad' 'Neutral'\n",
            "  'Neutral' 'Sad' 'Sad' 'Sad' 'Sad' 'Happy' 'Neutral' 'Happy' 'Neutral'\n",
            "  'Sad' 'Sad' 'Sad' 'Neutral' 'Neutral' 'Sad' 'Sad' 'Happy' 'Neutral'\n",
            "  'Neutral' 'Happy']\n",
            " ['181' '197' '0' '174' '223' '149' '140' '38' '1' '40' '101' '152' '150'\n",
            "  '113' '49' '86' '6' '99' '143' '125' '129' '6' '9' '10' '72' '150'\n",
            "  '141' '156' '57' '72' '17' '181' '197' '131' '154' '137' '193' '19'\n",
            "  '101' '139' '164' '137' '22' '17' '9' '145' '192' '146' '234' '167'\n",
            "  '16' '17' '32' '35' '220' '116' '23' '44' '131' '86' '194' '60' '121'\n",
            "  '76' '93' '53' '25' '227' '125' '243' '14' '39' '55' '158' '7' '213'\n",
            "  '116' '129' '21' '28' '16' '180' '138' '176' '99' '5' '1' '10' '47'\n",
            "  '84' '23' '4' '0' '0' '0' '0']\n",
            " ['5' '8' '5' '4' '5' '6' '6' '7' '5' '6' '8' '5' '6' '7' '5' '6' '8' '5'\n",
            "  '4' '5' '6' '8' '5' '6' '5' '8' '5' '4' '5' '4' '5' '4' '3' '2' '9' '5'\n",
            "  '6' '4' '5' '8' '4' '5' '6' '5' '6' '5' '6' '5' '6' '5' '6' '7' '6' '7'\n",
            "  '6' '5' '6' '7' '8' '8' '7' '8' '5' '4' '3' '3' '4' '5' '5' '5' '3' '4'\n",
            "  '4' '5' '5' '5' '5' '5' '5' '4' '3' '4' '5' '5' '4' '5' '3' '3' '3' '2'\n",
            "  '3' '2' '8' '5' '5' '5']\n",
            " ['Inactive' 'Inactive' 'Inactive' 'Inactive' 'Active' 'Inactive'\n",
            "  'Inactive' 'Inactive' 'Inactive' 'Inactive' 'Inactive' 'Inactive'\n",
            "  'Active' 'Inactive' 'Inactive' 'Inactive' 'Inactive' 'Inactive'\n",
            "  'Inactive' 'Inactive' 'Inactive' 'Inactive' 'Inactive' 'Inactive'\n",
            "  'Inactive' 'Active' 'Inactive' 'Inactive' 'Inactive' 'Inactive'\n",
            "  'Active' 'Inactive' 'Inactive' 'Inactive' 'Inactive' 'Inactive'\n",
            "  'Active' 'Active' 'Active' 'Active' 'Active' 'Active' 'Active' 'Active'\n",
            "  'Active' 'Inactive' 'Inactive' 'Inactive' 'Inactive' 'Inactive'\n",
            "  'Inactive' 'Active' 'Active' 'Active' 'Active' 'Active' 'Active'\n",
            "  'Active' 'Active' 'Active' 'Active' 'Active' 'Active' 'Inactive'\n",
            "  'Active' 'Active' 'Inactive' 'Active' 'Active' 'Active' 'Active'\n",
            "  'Active' 'Inactive' 'Active' 'Active' 'Active' 'Active' 'Inactive'\n",
            "  'Inactive' 'Inactive' 'Inactive' 'Active' 'Active' 'Active' 'Active'\n",
            "  'Inactive' 'Inactive' 'Inactive' 'Inactive' 'Inactive' 'Inactive'\n",
            "  'Inactive' 'Inactive' 'Active' 'Inactive' 'Active']]\n"
          ]
        }
      ]
    },
    {
      "cell_type": "code",
      "source": [
        "data_t.shape"
      ],
      "metadata": {
        "colab": {
          "base_uri": "https://localhost:8080/"
        },
        "id": "9uAyjieFGX6o",
        "outputId": "6f714ddc-ee75-413a-cefe-288f686790d3"
      },
      "execution_count": null,
      "outputs": [
        {
          "output_type": "execute_result",
          "data": {
            "text/plain": [
              "(6, 96)"
            ]
          },
          "metadata": {},
          "execution_count": 11
        }
      ]
    },
    {
      "cell_type": "code",
      "source": [
        "data.shape"
      ],
      "metadata": {
        "colab": {
          "base_uri": "https://localhost:8080/"
        },
        "id": "Ohn5WoWvGkUQ",
        "outputId": "d0f3cebb-53bb-4cf6-c6e2-37d2cfd57060"
      },
      "execution_count": null,
      "outputs": [
        {
          "output_type": "execute_result",
          "data": {
            "text/plain": [
              "(96, 6)"
            ]
          },
          "metadata": {},
          "execution_count": 12
        }
      ]
    },
    {
      "cell_type": "code",
      "source": [
        "data_t.shape"
      ],
      "metadata": {
        "colab": {
          "base_uri": "https://localhost:8080/"
        },
        "id": "UE85x4HuGmn3",
        "outputId": "a7b4c1dc-71dc-462f-a1f0-dc94a9ee2a4f"
      },
      "execution_count": null,
      "outputs": [
        {
          "output_type": "execute_result",
          "data": {
            "text/plain": [
              "(6, 96)"
            ]
          },
          "metadata": {},
          "execution_count": 13
        }
      ]
    },
    {
      "cell_type": "code",
      "source": [
        "rows = data_t.shape[0]\n",
        "cols = data_t.shape[1]"
      ],
      "metadata": {
        "id": "FG_Fsd-pGvZu"
      },
      "execution_count": null,
      "outputs": []
    },
    {
      "cell_type": "code",
      "source": [
        "rows"
      ],
      "metadata": {
        "colab": {
          "base_uri": "https://localhost:8080/"
        },
        "id": "8lYCRmUSGzYH",
        "outputId": "de23b799-ae3f-491f-e3f9-d02f26ba90b7"
      },
      "execution_count": null,
      "outputs": [
        {
          "output_type": "execute_result",
          "data": {
            "text/plain": [
              "6"
            ]
          },
          "metadata": {},
          "execution_count": 15
        }
      ]
    },
    {
      "cell_type": "code",
      "source": [
        "cols"
      ],
      "metadata": {
        "colab": {
          "base_uri": "https://localhost:8080/"
        },
        "id": "v05inH9GG2ns",
        "outputId": "1578808b-cf13-4ec2-ae15-bfe57e13ae0a"
      },
      "execution_count": null,
      "outputs": [
        {
          "output_type": "execute_result",
          "data": {
            "text/plain": [
              "96"
            ]
          },
          "metadata": {},
          "execution_count": 16
        }
      ]
    },
    {
      "cell_type": "code",
      "source": [
        "print(data_t)"
      ],
      "metadata": {
        "colab": {
          "base_uri": "https://localhost:8080/"
        },
        "id": "Ikt1w-BIG3W6",
        "outputId": "6bce350b-9b3d-4379-eb7b-0ad6e4f87217"
      },
      "execution_count": null,
      "outputs": [
        {
          "output_type": "stream",
          "name": "stdout",
          "text": [
            "[['06-10-2017' '07-10-2017' '08-10-2017' '09-10-2017' '10-10-2017'\n",
            "  '11-10-2017' '12-10-2017' '13-10-2017' '14-10-2017' '15-10-2017'\n",
            "  '16-10-2017' '17-10-2017' '18-10-2017' '19-10-2017' '20-10-2017'\n",
            "  '21-10-2017' '22-10-2017' '23-10-2017' '24-10-2017' '25-10-2017'\n",
            "  '26-10-2017' '27-10-2017' '28-10-2017' '29-10-2017' '30-10-2017'\n",
            "  '31-10-2017' '01-11-2017' '02-11-2017' '03-11-2017' '04-11-2017'\n",
            "  '05-11-2017' '06-11-2017' '07-11-2017' '08-11-2017' '09-11-2017'\n",
            "  '10-11-2017' '11-11-2017' '12-11-2017' '13-11-2017' '14-11-2017'\n",
            "  '15-11-2017' '16-11-2017' '17-11-2017' '18-11-2017' '19-11-2017'\n",
            "  '20-11-2017' '21-11-2017' '22-11-2017' '23-11-2017' '24-11-2017'\n",
            "  '25-11-2017' '26-11-2017' '27-11-2017' '28-11-2017' '29-11-2017'\n",
            "  '30-11-2017' '01-12-2017' '02-12-2017' '03-12-2017' '04-12-2017'\n",
            "  '05-12-2017' '06-12-2017' '07-12-2017' '08-12-2017' '09-12-2017'\n",
            "  '10-12-2017' '11-12-2017' '12-12-2017' '13-12-2017' '14-12-2017'\n",
            "  '15-12-2017' '16-12-2017' '17-12-2017' '18-12-2017' '19-12-2017'\n",
            "  '20-12-2017' '21-12-2017' '22-12-2017' '23-12-2017' '24-12-2017'\n",
            "  '25-12-2017' '26-12-2017' '27-12-2017' '28-12-2017' '29-12-2017'\n",
            "  '30-12-2017' '31-12-2017' '01-01-2018' '02-01-2018' '03-01-2018'\n",
            "  '04-01-2018' '05-01-2018' '06-01-2018' '07-01-2018' '08-01-2018'\n",
            "  '09-01-2018']\n",
            " ['5464' '6041' '25' '5461' '6915' '4545' '4340' '1230' '61' '1258'\n",
            "  '3148' '4687' '4732' '3519' '1580' '2822' '181' '3158' '4383' '3881'\n",
            "  '4037' '202' '292' '330' '2209' '4550' '4435' '4779' '1831' '2255'\n",
            "  '539' '5464' '6041' '4068' '4683' '4033' '6314' '614' '3149' '4005'\n",
            "  '4880' '4136' '705' '570' '269' '4275' '5999' '4421' '6930' '5195'\n",
            "  '546' '493' '995' '1163' '6676' '3608' '774' '1421' '4064' '2725'\n",
            "  '5934' '1867' '3721' '2374' '2909' '1648' '799' '7102' '3941' '7422'\n",
            "  '437' '1231' '1696' '4921' '221' '6500' '3575' '4061' '651' '753' '518'\n",
            "  '5537' '4108' '5376' '3066' '177' '36' '299' '1447' '2599' '702' '133'\n",
            "  '153' '500' '2127' '2203']\n",
            " ['Neutral' 'Sad' 'Sad' 'Sad' 'Neutral' 'Sad' 'Sad' 'Sad' 'Sad' 'Sad'\n",
            "  'Sad' 'Sad' 'Happy' 'Sad' 'Sad' 'Sad' 'Sad' 'Neutral' 'Neutral'\n",
            "  'Neutral' 'Neutral' 'Neutral' 'Neutral' 'Happy' 'Neutral' 'Happy'\n",
            "  'Happy' 'Happy' 'Happy' 'Happy' 'Happy' 'Happy' 'Neutral' 'Happy'\n",
            "  'Happy' 'Happy' 'Happy' 'Happy' 'Happy' 'Happy' 'Happy' 'Happy' 'Happy'\n",
            "  'Neutral' 'Happy' 'Happy' 'Happy' 'Happy' 'Happy' 'Happy' 'Happy'\n",
            "  'Happy' 'Happy' 'Neutral' 'Sad' 'Happy' 'Happy' 'Happy' 'Happy' 'Happy'\n",
            "  'Happy' 'Happy' 'Sad' 'Neutral' 'Neutral' 'Sad' 'Sad' 'Neutral'\n",
            "  'Neutral' 'Happy' 'Neutral' 'Neutral' 'Sad' 'Neutral' 'Sad' 'Neutral'\n",
            "  'Neutral' 'Sad' 'Sad' 'Sad' 'Sad' 'Happy' 'Neutral' 'Happy' 'Neutral'\n",
            "  'Sad' 'Sad' 'Sad' 'Neutral' 'Neutral' 'Sad' 'Sad' 'Happy' 'Neutral'\n",
            "  'Neutral' 'Happy']\n",
            " ['181' '197' '0' '174' '223' '149' '140' '38' '1' '40' '101' '152' '150'\n",
            "  '113' '49' '86' '6' '99' '143' '125' '129' '6' '9' '10' '72' '150'\n",
            "  '141' '156' '57' '72' '17' '181' '197' '131' '154' '137' '193' '19'\n",
            "  '101' '139' '164' '137' '22' '17' '9' '145' '192' '146' '234' '167'\n",
            "  '16' '17' '32' '35' '220' '116' '23' '44' '131' '86' '194' '60' '121'\n",
            "  '76' '93' '53' '25' '227' '125' '243' '14' '39' '55' '158' '7' '213'\n",
            "  '116' '129' '21' '28' '16' '180' '138' '176' '99' '5' '1' '10' '47'\n",
            "  '84' '23' '4' '0' '0' '0' '0']\n",
            " ['5' '8' '5' '4' '5' '6' '6' '7' '5' '6' '8' '5' '6' '7' '5' '6' '8' '5'\n",
            "  '4' '5' '6' '8' '5' '6' '5' '8' '5' '4' '5' '4' '5' '4' '3' '2' '9' '5'\n",
            "  '6' '4' '5' '8' '4' '5' '6' '5' '6' '5' '6' '5' '6' '5' '6' '7' '6' '7'\n",
            "  '6' '5' '6' '7' '8' '8' '7' '8' '5' '4' '3' '3' '4' '5' '5' '5' '3' '4'\n",
            "  '4' '5' '5' '5' '5' '5' '5' '4' '3' '4' '5' '5' '4' '5' '3' '3' '3' '2'\n",
            "  '3' '2' '8' '5' '5' '5']\n",
            " ['Inactive' 'Inactive' 'Inactive' 'Inactive' 'Active' 'Inactive'\n",
            "  'Inactive' 'Inactive' 'Inactive' 'Inactive' 'Inactive' 'Inactive'\n",
            "  'Active' 'Inactive' 'Inactive' 'Inactive' 'Inactive' 'Inactive'\n",
            "  'Inactive' 'Inactive' 'Inactive' 'Inactive' 'Inactive' 'Inactive'\n",
            "  'Inactive' 'Active' 'Inactive' 'Inactive' 'Inactive' 'Inactive'\n",
            "  'Active' 'Inactive' 'Inactive' 'Inactive' 'Inactive' 'Inactive'\n",
            "  'Active' 'Active' 'Active' 'Active' 'Active' 'Active' 'Active' 'Active'\n",
            "  'Active' 'Inactive' 'Inactive' 'Inactive' 'Inactive' 'Inactive'\n",
            "  'Inactive' 'Active' 'Active' 'Active' 'Active' 'Active' 'Active'\n",
            "  'Active' 'Active' 'Active' 'Active' 'Active' 'Active' 'Inactive'\n",
            "  'Active' 'Active' 'Inactive' 'Active' 'Active' 'Active' 'Active'\n",
            "  'Active' 'Inactive' 'Active' 'Active' 'Active' 'Active' 'Inactive'\n",
            "  'Inactive' 'Inactive' 'Inactive' 'Active' 'Active' 'Active' 'Active'\n",
            "  'Inactive' 'Inactive' 'Inactive' 'Inactive' 'Inactive' 'Inactive'\n",
            "  'Inactive' 'Inactive' 'Active' 'Inactive' 'Active']]\n"
          ]
        }
      ]
    },
    {
      "cell_type": "code",
      "source": [
        "dates = data_t[0]\n",
        "print(dates)"
      ],
      "metadata": {
        "colab": {
          "base_uri": "https://localhost:8080/"
        },
        "id": "ESOKPSZxG7ik",
        "outputId": "46edc9b0-e92c-4a5b-d932-8001babe9c6c"
      },
      "execution_count": null,
      "outputs": [
        {
          "output_type": "stream",
          "name": "stdout",
          "text": [
            "['06-10-2017' '07-10-2017' '08-10-2017' '09-10-2017' '10-10-2017'\n",
            " '11-10-2017' '12-10-2017' '13-10-2017' '14-10-2017' '15-10-2017'\n",
            " '16-10-2017' '17-10-2017' '18-10-2017' '19-10-2017' '20-10-2017'\n",
            " '21-10-2017' '22-10-2017' '23-10-2017' '24-10-2017' '25-10-2017'\n",
            " '26-10-2017' '27-10-2017' '28-10-2017' '29-10-2017' '30-10-2017'\n",
            " '31-10-2017' '01-11-2017' '02-11-2017' '03-11-2017' '04-11-2017'\n",
            " '05-11-2017' '06-11-2017' '07-11-2017' '08-11-2017' '09-11-2017'\n",
            " '10-11-2017' '11-11-2017' '12-11-2017' '13-11-2017' '14-11-2017'\n",
            " '15-11-2017' '16-11-2017' '17-11-2017' '18-11-2017' '19-11-2017'\n",
            " '20-11-2017' '21-11-2017' '22-11-2017' '23-11-2017' '24-11-2017'\n",
            " '25-11-2017' '26-11-2017' '27-11-2017' '28-11-2017' '29-11-2017'\n",
            " '30-11-2017' '01-12-2017' '02-12-2017' '03-12-2017' '04-12-2017'\n",
            " '05-12-2017' '06-12-2017' '07-12-2017' '08-12-2017' '09-12-2017'\n",
            " '10-12-2017' '11-12-2017' '12-12-2017' '13-12-2017' '14-12-2017'\n",
            " '15-12-2017' '16-12-2017' '17-12-2017' '18-12-2017' '19-12-2017'\n",
            " '20-12-2017' '21-12-2017' '22-12-2017' '23-12-2017' '24-12-2017'\n",
            " '25-12-2017' '26-12-2017' '27-12-2017' '28-12-2017' '29-12-2017'\n",
            " '30-12-2017' '31-12-2017' '01-01-2018' '02-01-2018' '03-01-2018'\n",
            " '04-01-2018' '05-01-2018' '06-01-2018' '07-01-2018' '08-01-2018'\n",
            " '09-01-2018']\n"
          ]
        }
      ]
    },
    {
      "cell_type": "code",
      "source": [
        "dates.ndim"
      ],
      "metadata": {
        "colab": {
          "base_uri": "https://localhost:8080/"
        },
        "id": "2KKGBMjMHIQf",
        "outputId": "b15fff99-7c63-44c4-8f86-86bf4bf1631d"
      },
      "execution_count": null,
      "outputs": [
        {
          "output_type": "execute_result",
          "data": {
            "text/plain": [
              "1"
            ]
          },
          "metadata": {},
          "execution_count": 20
        }
      ]
    },
    {
      "cell_type": "code",
      "source": [
        "dates.shape"
      ],
      "metadata": {
        "colab": {
          "base_uri": "https://localhost:8080/"
        },
        "id": "GwV_A-2LHPsF",
        "outputId": "7fe90d8d-f731-4150-ac19-c50468284556"
      },
      "execution_count": null,
      "outputs": [
        {
          "output_type": "execute_result",
          "data": {
            "text/plain": [
              "(96,)"
            ]
          },
          "metadata": {},
          "execution_count": 21
        }
      ]
    },
    {
      "cell_type": "code",
      "source": [
        "print(data_t)"
      ],
      "metadata": {
        "colab": {
          "base_uri": "https://localhost:8080/"
        },
        "id": "S77S6D9RHSaa",
        "outputId": "69efca59-8a0d-4f8b-b3ea-e1d1974bab33"
      },
      "execution_count": null,
      "outputs": [
        {
          "output_type": "stream",
          "name": "stdout",
          "text": [
            "[['06-10-2017' '07-10-2017' '08-10-2017' '09-10-2017' '10-10-2017'\n",
            "  '11-10-2017' '12-10-2017' '13-10-2017' '14-10-2017' '15-10-2017'\n",
            "  '16-10-2017' '17-10-2017' '18-10-2017' '19-10-2017' '20-10-2017'\n",
            "  '21-10-2017' '22-10-2017' '23-10-2017' '24-10-2017' '25-10-2017'\n",
            "  '26-10-2017' '27-10-2017' '28-10-2017' '29-10-2017' '30-10-2017'\n",
            "  '31-10-2017' '01-11-2017' '02-11-2017' '03-11-2017' '04-11-2017'\n",
            "  '05-11-2017' '06-11-2017' '07-11-2017' '08-11-2017' '09-11-2017'\n",
            "  '10-11-2017' '11-11-2017' '12-11-2017' '13-11-2017' '14-11-2017'\n",
            "  '15-11-2017' '16-11-2017' '17-11-2017' '18-11-2017' '19-11-2017'\n",
            "  '20-11-2017' '21-11-2017' '22-11-2017' '23-11-2017' '24-11-2017'\n",
            "  '25-11-2017' '26-11-2017' '27-11-2017' '28-11-2017' '29-11-2017'\n",
            "  '30-11-2017' '01-12-2017' '02-12-2017' '03-12-2017' '04-12-2017'\n",
            "  '05-12-2017' '06-12-2017' '07-12-2017' '08-12-2017' '09-12-2017'\n",
            "  '10-12-2017' '11-12-2017' '12-12-2017' '13-12-2017' '14-12-2017'\n",
            "  '15-12-2017' '16-12-2017' '17-12-2017' '18-12-2017' '19-12-2017'\n",
            "  '20-12-2017' '21-12-2017' '22-12-2017' '23-12-2017' '24-12-2017'\n",
            "  '25-12-2017' '26-12-2017' '27-12-2017' '28-12-2017' '29-12-2017'\n",
            "  '30-12-2017' '31-12-2017' '01-01-2018' '02-01-2018' '03-01-2018'\n",
            "  '04-01-2018' '05-01-2018' '06-01-2018' '07-01-2018' '08-01-2018'\n",
            "  '09-01-2018']\n",
            " ['5464' '6041' '25' '5461' '6915' '4545' '4340' '1230' '61' '1258'\n",
            "  '3148' '4687' '4732' '3519' '1580' '2822' '181' '3158' '4383' '3881'\n",
            "  '4037' '202' '292' '330' '2209' '4550' '4435' '4779' '1831' '2255'\n",
            "  '539' '5464' '6041' '4068' '4683' '4033' '6314' '614' '3149' '4005'\n",
            "  '4880' '4136' '705' '570' '269' '4275' '5999' '4421' '6930' '5195'\n",
            "  '546' '493' '995' '1163' '6676' '3608' '774' '1421' '4064' '2725'\n",
            "  '5934' '1867' '3721' '2374' '2909' '1648' '799' '7102' '3941' '7422'\n",
            "  '437' '1231' '1696' '4921' '221' '6500' '3575' '4061' '651' '753' '518'\n",
            "  '5537' '4108' '5376' '3066' '177' '36' '299' '1447' '2599' '702' '133'\n",
            "  '153' '500' '2127' '2203']\n",
            " ['Neutral' 'Sad' 'Sad' 'Sad' 'Neutral' 'Sad' 'Sad' 'Sad' 'Sad' 'Sad'\n",
            "  'Sad' 'Sad' 'Happy' 'Sad' 'Sad' 'Sad' 'Sad' 'Neutral' 'Neutral'\n",
            "  'Neutral' 'Neutral' 'Neutral' 'Neutral' 'Happy' 'Neutral' 'Happy'\n",
            "  'Happy' 'Happy' 'Happy' 'Happy' 'Happy' 'Happy' 'Neutral' 'Happy'\n",
            "  'Happy' 'Happy' 'Happy' 'Happy' 'Happy' 'Happy' 'Happy' 'Happy' 'Happy'\n",
            "  'Neutral' 'Happy' 'Happy' 'Happy' 'Happy' 'Happy' 'Happy' 'Happy'\n",
            "  'Happy' 'Happy' 'Neutral' 'Sad' 'Happy' 'Happy' 'Happy' 'Happy' 'Happy'\n",
            "  'Happy' 'Happy' 'Sad' 'Neutral' 'Neutral' 'Sad' 'Sad' 'Neutral'\n",
            "  'Neutral' 'Happy' 'Neutral' 'Neutral' 'Sad' 'Neutral' 'Sad' 'Neutral'\n",
            "  'Neutral' 'Sad' 'Sad' 'Sad' 'Sad' 'Happy' 'Neutral' 'Happy' 'Neutral'\n",
            "  'Sad' 'Sad' 'Sad' 'Neutral' 'Neutral' 'Sad' 'Sad' 'Happy' 'Neutral'\n",
            "  'Neutral' 'Happy']\n",
            " ['181' '197' '0' '174' '223' '149' '140' '38' '1' '40' '101' '152' '150'\n",
            "  '113' '49' '86' '6' '99' '143' '125' '129' '6' '9' '10' '72' '150'\n",
            "  '141' '156' '57' '72' '17' '181' '197' '131' '154' '137' '193' '19'\n",
            "  '101' '139' '164' '137' '22' '17' '9' '145' '192' '146' '234' '167'\n",
            "  '16' '17' '32' '35' '220' '116' '23' '44' '131' '86' '194' '60' '121'\n",
            "  '76' '93' '53' '25' '227' '125' '243' '14' '39' '55' '158' '7' '213'\n",
            "  '116' '129' '21' '28' '16' '180' '138' '176' '99' '5' '1' '10' '47'\n",
            "  '84' '23' '4' '0' '0' '0' '0']\n",
            " ['5' '8' '5' '4' '5' '6' '6' '7' '5' '6' '8' '5' '6' '7' '5' '6' '8' '5'\n",
            "  '4' '5' '6' '8' '5' '6' '5' '8' '5' '4' '5' '4' '5' '4' '3' '2' '9' '5'\n",
            "  '6' '4' '5' '8' '4' '5' '6' '5' '6' '5' '6' '5' '6' '5' '6' '7' '6' '7'\n",
            "  '6' '5' '6' '7' '8' '8' '7' '8' '5' '4' '3' '3' '4' '5' '5' '5' '3' '4'\n",
            "  '4' '5' '5' '5' '5' '5' '5' '4' '3' '4' '5' '5' '4' '5' '3' '3' '3' '2'\n",
            "  '3' '2' '8' '5' '5' '5']\n",
            " ['Inactive' 'Inactive' 'Inactive' 'Inactive' 'Active' 'Inactive'\n",
            "  'Inactive' 'Inactive' 'Inactive' 'Inactive' 'Inactive' 'Inactive'\n",
            "  'Active' 'Inactive' 'Inactive' 'Inactive' 'Inactive' 'Inactive'\n",
            "  'Inactive' 'Inactive' 'Inactive' 'Inactive' 'Inactive' 'Inactive'\n",
            "  'Inactive' 'Active' 'Inactive' 'Inactive' 'Inactive' 'Inactive'\n",
            "  'Active' 'Inactive' 'Inactive' 'Inactive' 'Inactive' 'Inactive'\n",
            "  'Active' 'Active' 'Active' 'Active' 'Active' 'Active' 'Active' 'Active'\n",
            "  'Active' 'Inactive' 'Inactive' 'Inactive' 'Inactive' 'Inactive'\n",
            "  'Inactive' 'Active' 'Active' 'Active' 'Active' 'Active' 'Active'\n",
            "  'Active' 'Active' 'Active' 'Active' 'Active' 'Active' 'Inactive'\n",
            "  'Active' 'Active' 'Inactive' 'Active' 'Active' 'Active' 'Active'\n",
            "  'Active' 'Inactive' 'Active' 'Active' 'Active' 'Active' 'Inactive'\n",
            "  'Inactive' 'Inactive' 'Inactive' 'Active' 'Active' 'Active' 'Active'\n",
            "  'Inactive' 'Inactive' 'Inactive' 'Inactive' 'Inactive' 'Inactive'\n",
            "  'Inactive' 'Inactive' 'Active' 'Inactive' 'Active']]\n"
          ]
        }
      ]
    },
    {
      "cell_type": "code",
      "source": [
        "step_count = data_t[1]\n",
        "print(step_count)"
      ],
      "metadata": {
        "colab": {
          "base_uri": "https://localhost:8080/"
        },
        "id": "w839wucxHWyk",
        "outputId": "01231e7b-f60a-4355-e66e-b1480862dbf9"
      },
      "execution_count": null,
      "outputs": [
        {
          "output_type": "stream",
          "name": "stdout",
          "text": [
            "['5464' '6041' '25' '5461' '6915' '4545' '4340' '1230' '61' '1258' '3148'\n",
            " '4687' '4732' '3519' '1580' '2822' '181' '3158' '4383' '3881' '4037'\n",
            " '202' '292' '330' '2209' '4550' '4435' '4779' '1831' '2255' '539' '5464'\n",
            " '6041' '4068' '4683' '4033' '6314' '614' '3149' '4005' '4880' '4136'\n",
            " '705' '570' '269' '4275' '5999' '4421' '6930' '5195' '546' '493' '995'\n",
            " '1163' '6676' '3608' '774' '1421' '4064' '2725' '5934' '1867' '3721'\n",
            " '2374' '2909' '1648' '799' '7102' '3941' '7422' '437' '1231' '1696'\n",
            " '4921' '221' '6500' '3575' '4061' '651' '753' '518' '5537' '4108' '5376'\n",
            " '3066' '177' '36' '299' '1447' '2599' '702' '133' '153' '500' '2127'\n",
            " '2203']\n"
          ]
        }
      ]
    },
    {
      "cell_type": "code",
      "source": [
        "step_count = step_count.astype(\"int\")\n",
        "print(step_count)"
      ],
      "metadata": {
        "colab": {
          "base_uri": "https://localhost:8080/"
        },
        "id": "DaHktZVrHht2",
        "outputId": "a514627a-6f08-40a6-81b4-8299d3e5a139"
      },
      "execution_count": null,
      "outputs": [
        {
          "output_type": "stream",
          "name": "stdout",
          "text": [
            "[5464 6041   25 5461 6915 4545 4340 1230   61 1258 3148 4687 4732 3519\n",
            " 1580 2822  181 3158 4383 3881 4037  202  292  330 2209 4550 4435 4779\n",
            " 1831 2255  539 5464 6041 4068 4683 4033 6314  614 3149 4005 4880 4136\n",
            "  705  570  269 4275 5999 4421 6930 5195  546  493  995 1163 6676 3608\n",
            "  774 1421 4064 2725 5934 1867 3721 2374 2909 1648  799 7102 3941 7422\n",
            "  437 1231 1696 4921  221 6500 3575 4061  651  753  518 5537 4108 5376\n",
            " 3066  177   36  299 1447 2599  702  133  153  500 2127 2203]\n"
          ]
        }
      ]
    },
    {
      "cell_type": "code",
      "source": [
        "# step_count = np.array(step_count, dtype = \"int\")"
      ],
      "metadata": {
        "id": "ziDqzc4xHv2A"
      },
      "execution_count": null,
      "outputs": []
    },
    {
      "cell_type": "code",
      "source": [
        "np.mean(step_count) #average step count in the given data"
      ],
      "metadata": {
        "colab": {
          "base_uri": "https://localhost:8080/"
        },
        "id": "Sw1r-xkhH3Th",
        "outputId": "e680a1e2-ce0c-4f37-f956-7ba18c634231"
      },
      "execution_count": null,
      "outputs": [
        {
          "output_type": "execute_result",
          "data": {
            "text/plain": [
              "2935.9375"
            ]
          },
          "metadata": {},
          "execution_count": 26
        }
      ]
    },
    {
      "cell_type": "code",
      "source": [
        "#version2"
      ],
      "metadata": {
        "id": "wT9ZaqIzIClq"
      },
      "execution_count": null,
      "outputs": []
    },
    {
      "cell_type": "code",
      "source": [
        "print(data[:5])"
      ],
      "metadata": {
        "colab": {
          "base_uri": "https://localhost:8080/"
        },
        "id": "WSt_LDi3IKcc",
        "outputId": "0ee1a00a-9442-450c-a227-aa7d81d80029"
      },
      "execution_count": null,
      "outputs": [
        {
          "output_type": "stream",
          "name": "stdout",
          "text": [
            "[['06-10-2017' '5464' 'Neutral' '181' '5' 'Inactive']\n",
            " ['07-10-2017' '6041' 'Sad' '197' '8' 'Inactive']\n",
            " ['08-10-2017' '25' 'Sad' '0' '5' 'Inactive']\n",
            " ['09-10-2017' '5461' 'Sad' '174' '4' 'Inactive']\n",
            " ['10-10-2017' '6915' 'Neutral' '223' '5' 'Active']]\n"
          ]
        }
      ]
    },
    {
      "cell_type": "code",
      "source": [
        "step_count = data[: , 1]\n",
        "print(step_count)"
      ],
      "metadata": {
        "colab": {
          "base_uri": "https://localhost:8080/"
        },
        "id": "EjkXnqEXISpm",
        "outputId": "c74fa2d8-29ba-4761-b5ad-228484a7302b"
      },
      "execution_count": null,
      "outputs": [
        {
          "output_type": "stream",
          "name": "stdout",
          "text": [
            "['5464' '6041' '25' '5461' '6915' '4545' '4340' '1230' '61' '1258' '3148'\n",
            " '4687' '4732' '3519' '1580' '2822' '181' '3158' '4383' '3881' '4037'\n",
            " '202' '292' '330' '2209' '4550' '4435' '4779' '1831' '2255' '539' '5464'\n",
            " '6041' '4068' '4683' '4033' '6314' '614' '3149' '4005' '4880' '4136'\n",
            " '705' '570' '269' '4275' '5999' '4421' '6930' '5195' '546' '493' '995'\n",
            " '1163' '6676' '3608' '774' '1421' '4064' '2725' '5934' '1867' '3721'\n",
            " '2374' '2909' '1648' '799' '7102' '3941' '7422' '437' '1231' '1696'\n",
            " '4921' '221' '6500' '3575' '4061' '651' '753' '518' '5537' '4108' '5376'\n",
            " '3066' '177' '36' '299' '1447' '2599' '702' '133' '153' '500' '2127'\n",
            " '2203']\n"
          ]
        }
      ]
    },
    {
      "cell_type": "code",
      "source": [
        "step_count = step_count.astype(\"int\")\n",
        "print(step_count)"
      ],
      "metadata": {
        "colab": {
          "base_uri": "https://localhost:8080/"
        },
        "id": "g0a6KFLQIqt3",
        "outputId": "ccfd63e3-64d3-4635-b5ef-751596c09288"
      },
      "execution_count": null,
      "outputs": [
        {
          "output_type": "stream",
          "name": "stdout",
          "text": [
            "[5464 6041   25 5461 6915 4545 4340 1230   61 1258 3148 4687 4732 3519\n",
            " 1580 2822  181 3158 4383 3881 4037  202  292  330 2209 4550 4435 4779\n",
            " 1831 2255  539 5464 6041 4068 4683 4033 6314  614 3149 4005 4880 4136\n",
            "  705  570  269 4275 5999 4421 6930 5195  546  493  995 1163 6676 3608\n",
            "  774 1421 4064 2725 5934 1867 3721 2374 2909 1648  799 7102 3941 7422\n",
            "  437 1231 1696 4921  221 6500 3575 4061  651  753  518 5537 4108 5376\n",
            " 3066  177   36  299 1447 2599  702  133  153  500 2127 2203]\n"
          ]
        }
      ]
    },
    {
      "cell_type": "code",
      "source": [
        "mood = data[:, 2]\n",
        "print(mood)"
      ],
      "metadata": {
        "colab": {
          "base_uri": "https://localhost:8080/"
        },
        "id": "tNBiNn3-IzZZ",
        "outputId": "9ca68a3f-1d3a-4fc1-fc77-8003eb45c3cf"
      },
      "execution_count": null,
      "outputs": [
        {
          "output_type": "stream",
          "name": "stdout",
          "text": [
            "['Neutral' 'Sad' 'Sad' 'Sad' 'Neutral' 'Sad' 'Sad' 'Sad' 'Sad' 'Sad' 'Sad'\n",
            " 'Sad' 'Happy' 'Sad' 'Sad' 'Sad' 'Sad' 'Neutral' 'Neutral' 'Neutral'\n",
            " 'Neutral' 'Neutral' 'Neutral' 'Happy' 'Neutral' 'Happy' 'Happy' 'Happy'\n",
            " 'Happy' 'Happy' 'Happy' 'Happy' 'Neutral' 'Happy' 'Happy' 'Happy' 'Happy'\n",
            " 'Happy' 'Happy' 'Happy' 'Happy' 'Happy' 'Happy' 'Neutral' 'Happy' 'Happy'\n",
            " 'Happy' 'Happy' 'Happy' 'Happy' 'Happy' 'Happy' 'Happy' 'Neutral' 'Sad'\n",
            " 'Happy' 'Happy' 'Happy' 'Happy' 'Happy' 'Happy' 'Happy' 'Sad' 'Neutral'\n",
            " 'Neutral' 'Sad' 'Sad' 'Neutral' 'Neutral' 'Happy' 'Neutral' 'Neutral'\n",
            " 'Sad' 'Neutral' 'Sad' 'Neutral' 'Neutral' 'Sad' 'Sad' 'Sad' 'Sad' 'Happy'\n",
            " 'Neutral' 'Happy' 'Neutral' 'Sad' 'Sad' 'Sad' 'Neutral' 'Neutral' 'Sad'\n",
            " 'Sad' 'Happy' 'Neutral' 'Neutral' 'Happy']\n"
          ]
        }
      ]
    },
    {
      "cell_type": "code",
      "source": [
        "#store all the step counts on the days where mood was Happy"
      ],
      "metadata": {
        "id": "nwMAw2ogJIwf"
      },
      "execution_count": null,
      "outputs": []
    },
    {
      "cell_type": "code",
      "source": [
        "step_count_happy = step_count[ mood == \"Happy\" ] #step count where the mood was Happy\n",
        "print(step_count_happy)"
      ],
      "metadata": {
        "colab": {
          "base_uri": "https://localhost:8080/"
        },
        "id": "OC8kkB-sJluK",
        "outputId": "58e7994a-043c-4c30-d215-71ecc040d964"
      },
      "execution_count": null,
      "outputs": [
        {
          "output_type": "stream",
          "name": "stdout",
          "text": [
            "[4732  330 4550 4435 4779 1831 2255  539 5464 4068 4683 4033 6314  614\n",
            " 3149 4005 4880 4136  705  269 4275 5999 4421 6930 5195  546  493  995\n",
            " 3608  774 1421 4064 2725 5934 1867 7422 5537 5376  153 2203]\n"
          ]
        }
      ]
    },
    {
      "cell_type": "code",
      "source": [
        "len(step_count_happy)"
      ],
      "metadata": {
        "colab": {
          "base_uri": "https://localhost:8080/"
        },
        "id": "JISIFOIeKCjO",
        "outputId": "13ee4651-182f-4244-d2d2-3849dac970ab"
      },
      "execution_count": null,
      "outputs": [
        {
          "output_type": "execute_result",
          "data": {
            "text/plain": [
              "40"
            ]
          },
          "metadata": {},
          "execution_count": 36
        }
      ]
    },
    {
      "cell_type": "code",
      "source": [
        "#Find the average number of step counts that the person takes when their mood is Sad?"
      ],
      "metadata": {
        "id": "e6NgDe0PKamQ"
      },
      "execution_count": null,
      "outputs": []
    },
    {
      "cell_type": "code",
      "source": [
        "step_count_sad = step_count[ mood == \"Sad\" ]\n",
        "len(step_count_sad)"
      ],
      "metadata": {
        "colab": {
          "base_uri": "https://localhost:8080/"
        },
        "id": "ObKlAHLpKmuA",
        "outputId": "8f452acf-5b2e-4ed8-978e-618c7bf8e088"
      },
      "execution_count": null,
      "outputs": [
        {
          "output_type": "execute_result",
          "data": {
            "text/plain": [
              "29"
            ]
          },
          "metadata": {},
          "execution_count": 39
        }
      ]
    },
    {
      "cell_type": "code",
      "source": [
        "sad_avg_step_count = np.mean(step_count_sad)\n",
        "print(sad_avg_step_count)"
      ],
      "metadata": {
        "colab": {
          "base_uri": "https://localhost:8080/"
        },
        "id": "jxM5mXeJKmOW",
        "outputId": "07849657-6d97-45ab-b0ed-e6014b580300"
      },
      "execution_count": null,
      "outputs": [
        {
          "output_type": "stream",
          "name": "stdout",
          "text": [
            "2103.0689655172414\n"
          ]
        }
      ]
    },
    {
      "cell_type": "code",
      "source": [
        "#Find the average number of steps when the mood is Happy?"
      ],
      "metadata": {
        "id": "vefBcFebK1OC"
      },
      "execution_count": null,
      "outputs": []
    },
    {
      "cell_type": "code",
      "source": [
        "mood == \"Happy\""
      ],
      "metadata": {
        "colab": {
          "base_uri": "https://localhost:8080/"
        },
        "id": "OAvzsZH9LS_3",
        "outputId": "15223df8-c6f0-42fa-b881-4fbf9ccd1c8a"
      },
      "execution_count": null,
      "outputs": [
        {
          "output_type": "execute_result",
          "data": {
            "text/plain": [
              "array([False, False, False, False, False, False, False, False, False,\n",
              "       False, False, False,  True, False, False, False, False, False,\n",
              "       False, False, False, False, False,  True, False,  True,  True,\n",
              "        True,  True,  True,  True,  True, False,  True,  True,  True,\n",
              "        True,  True,  True,  True,  True,  True,  True, False,  True,\n",
              "        True,  True,  True,  True,  True,  True,  True,  True, False,\n",
              "       False,  True,  True,  True,  True,  True,  True,  True, False,\n",
              "       False, False, False, False, False, False,  True, False, False,\n",
              "       False, False, False, False, False, False, False, False, False,\n",
              "        True, False,  True, False, False, False, False, False, False,\n",
              "       False, False,  True, False, False,  True])"
            ]
          },
          "metadata": {},
          "execution_count": 42
        }
      ]
    },
    {
      "cell_type": "code",
      "source": [
        "step_count_happy = step_count[ mood == \"Happy\" ]\n",
        "len(step_count_happy)"
      ],
      "metadata": {
        "colab": {
          "base_uri": "https://localhost:8080/"
        },
        "id": "b6vkn3oNLrtt",
        "outputId": "f54ff0dd-7c70-4188-f5e9-e6a2a33ee81e"
      },
      "execution_count": null,
      "outputs": [
        {
          "output_type": "execute_result",
          "data": {
            "text/plain": [
              "40"
            ]
          },
          "metadata": {},
          "execution_count": 43
        }
      ]
    },
    {
      "cell_type": "code",
      "source": [
        "happy_avg_step_count = np.mean(step_count_happy)\n",
        "print(happy_avg_step_count)"
      ],
      "metadata": {
        "colab": {
          "base_uri": "https://localhost:8080/"
        },
        "id": "Pcps-XBbL2yW",
        "outputId": "e2eefc07-6449-4510-eef5-6ee0f54f055f"
      },
      "execution_count": null,
      "outputs": [
        {
          "output_type": "stream",
          "name": "stdout",
          "text": [
            "3392.725\n"
          ]
        }
      ]
    },
    {
      "cell_type": "code",
      "source": [
        "#Question: Find the step counts of the days when mood is either Happy or Neutral?"
      ],
      "metadata": {
        "id": "VGTw-FVYL7Jz"
      },
      "execution_count": null,
      "outputs": []
    },
    {
      "cell_type": "code",
      "source": [
        "step_count_happy_or_neutral = step_count[(mood == \"Happy\") | (mood == \"Neutral\")] #or --> |, and --> &\n",
        "print(step_count_happy_or_neutral)"
      ],
      "metadata": {
        "colab": {
          "base_uri": "https://localhost:8080/"
        },
        "id": "rK1G0hmsMUyy",
        "outputId": "6ec6b5d7-faad-4bab-f965-70b2e5386950"
      },
      "execution_count": null,
      "outputs": [
        {
          "output_type": "stream",
          "name": "stdout",
          "text": [
            "[5464 6915 4732 3158 4383 3881 4037  202  292  330 2209 4550 4435 4779\n",
            " 1831 2255  539 5464 6041 4068 4683 4033 6314  614 3149 4005 4880 4136\n",
            "  705  570  269 4275 5999 4421 6930 5195  546  493  995 1163 3608  774\n",
            " 1421 4064 2725 5934 1867 2374 2909 7102 3941 7422  437 1231 4921 6500\n",
            " 3575 5537 4108 5376 3066 1447 2599  153  500 2127 2203]\n"
          ]
        }
      ]
    },
    {
      "cell_type": "code",
      "source": [
        "len(step_count_happy_or_neutral)"
      ],
      "metadata": {
        "colab": {
          "base_uri": "https://localhost:8080/"
        },
        "id": "HNAx78h2NKxi",
        "outputId": "577443b4-53f6-4972-e46a-2512b32ba195"
      },
      "execution_count": null,
      "outputs": [
        {
          "output_type": "execute_result",
          "data": {
            "text/plain": [
              "67"
            ]
          },
          "metadata": {},
          "execution_count": 47
        }
      ]
    },
    {
      "cell_type": "code",
      "source": [
        "happy_or_neutral_avg = np.mean(step_count_happy_or_neutral)\n",
        "print(happy_or_neutral_avg)"
      ],
      "metadata": {
        "colab": {
          "base_uri": "https://localhost:8080/"
        },
        "id": "nQ70wRkwNVaS",
        "outputId": "4ca2c29f-aa28-4b19-b261-269fdf7d6126"
      },
      "execution_count": null,
      "outputs": [
        {
          "output_type": "stream",
          "name": "stdout",
          "text": [
            "3296.4328358208954\n"
          ]
        }
      ]
    },
    {
      "cell_type": "code",
      "source": [
        "happy_or_neutral_avg = np.round(happy_or_neutral_avg, 2)\n",
        "print(happy_or_neutral_avg)"
      ],
      "metadata": {
        "colab": {
          "base_uri": "https://localhost:8080/"
        },
        "id": "nxIGnXq2Nd3q",
        "outputId": "79d37013-cea7-4ad9-dd79-f39b72455d9b"
      },
      "execution_count": null,
      "outputs": [
        {
          "output_type": "stream",
          "name": "stdout",
          "text": [
            "3296.43\n"
          ]
        }
      ]
    },
    {
      "cell_type": "code",
      "source": [
        "#What was the mood of the person on \"06-10-2017\"?\n",
        "\n",
        "print(dates)"
      ],
      "metadata": {
        "colab": {
          "base_uri": "https://localhost:8080/"
        },
        "id": "MuZPZpwyNnQO",
        "outputId": "0a8cc372-6cfc-4ac8-823c-daf50e210318"
      },
      "execution_count": null,
      "outputs": [
        {
          "output_type": "stream",
          "name": "stdout",
          "text": [
            "['06-10-2017' '07-10-2017' '08-10-2017' '09-10-2017' '10-10-2017'\n",
            " '11-10-2017' '12-10-2017' '13-10-2017' '14-10-2017' '15-10-2017'\n",
            " '16-10-2017' '17-10-2017' '18-10-2017' '19-10-2017' '20-10-2017'\n",
            " '21-10-2017' '22-10-2017' '23-10-2017' '24-10-2017' '25-10-2017'\n",
            " '26-10-2017' '27-10-2017' '28-10-2017' '29-10-2017' '30-10-2017'\n",
            " '31-10-2017' '01-11-2017' '02-11-2017' '03-11-2017' '04-11-2017'\n",
            " '05-11-2017' '06-11-2017' '07-11-2017' '08-11-2017' '09-11-2017'\n",
            " '10-11-2017' '11-11-2017' '12-11-2017' '13-11-2017' '14-11-2017'\n",
            " '15-11-2017' '16-11-2017' '17-11-2017' '18-11-2017' '19-11-2017'\n",
            " '20-11-2017' '21-11-2017' '22-11-2017' '23-11-2017' '24-11-2017'\n",
            " '25-11-2017' '26-11-2017' '27-11-2017' '28-11-2017' '29-11-2017'\n",
            " '30-11-2017' '01-12-2017' '02-12-2017' '03-12-2017' '04-12-2017'\n",
            " '05-12-2017' '06-12-2017' '07-12-2017' '08-12-2017' '09-12-2017'\n",
            " '10-12-2017' '11-12-2017' '12-12-2017' '13-12-2017' '14-12-2017'\n",
            " '15-12-2017' '16-12-2017' '17-12-2017' '18-12-2017' '19-12-2017'\n",
            " '20-12-2017' '21-12-2017' '22-12-2017' '23-12-2017' '24-12-2017'\n",
            " '25-12-2017' '26-12-2017' '27-12-2017' '28-12-2017' '29-12-2017'\n",
            " '30-12-2017' '31-12-2017' '01-01-2018' '02-01-2018' '03-01-2018'\n",
            " '04-01-2018' '05-01-2018' '06-01-2018' '07-01-2018' '08-01-2018'\n",
            " '09-01-2018']\n"
          ]
        }
      ]
    },
    {
      "cell_type": "code",
      "source": [
        "print(mood)"
      ],
      "metadata": {
        "colab": {
          "base_uri": "https://localhost:8080/"
        },
        "id": "FBJZh_u3N98q",
        "outputId": "29cc20aa-fff2-49ea-8b36-cd98be91ec35"
      },
      "execution_count": null,
      "outputs": [
        {
          "output_type": "stream",
          "name": "stdout",
          "text": [
            "['Neutral' 'Sad' 'Sad' 'Sad' 'Neutral' 'Sad' 'Sad' 'Sad' 'Sad' 'Sad' 'Sad'\n",
            " 'Sad' 'Happy' 'Sad' 'Sad' 'Sad' 'Sad' 'Neutral' 'Neutral' 'Neutral'\n",
            " 'Neutral' 'Neutral' 'Neutral' 'Happy' 'Neutral' 'Happy' 'Happy' 'Happy'\n",
            " 'Happy' 'Happy' 'Happy' 'Happy' 'Neutral' 'Happy' 'Happy' 'Happy' 'Happy'\n",
            " 'Happy' 'Happy' 'Happy' 'Happy' 'Happy' 'Happy' 'Neutral' 'Happy' 'Happy'\n",
            " 'Happy' 'Happy' 'Happy' 'Happy' 'Happy' 'Happy' 'Happy' 'Neutral' 'Sad'\n",
            " 'Happy' 'Happy' 'Happy' 'Happy' 'Happy' 'Happy' 'Happy' 'Sad' 'Neutral'\n",
            " 'Neutral' 'Sad' 'Sad' 'Neutral' 'Neutral' 'Happy' 'Neutral' 'Neutral'\n",
            " 'Sad' 'Neutral' 'Sad' 'Neutral' 'Neutral' 'Sad' 'Sad' 'Sad' 'Sad' 'Happy'\n",
            " 'Neutral' 'Happy' 'Neutral' 'Sad' 'Sad' 'Sad' 'Neutral' 'Neutral' 'Sad'\n",
            " 'Sad' 'Happy' 'Neutral' 'Neutral' 'Happy']\n"
          ]
        }
      ]
    },
    {
      "cell_type": "code",
      "source": [
        "ans = mood[ dates == \"06-10-2017\"]\n",
        "print(ans)"
      ],
      "metadata": {
        "colab": {
          "base_uri": "https://localhost:8080/"
        },
        "id": "J1k3zeWZN_Bd",
        "outputId": "23d1aae1-7046-4777-af05-1b15de68ed0e"
      },
      "execution_count": null,
      "outputs": [
        {
          "output_type": "stream",
          "name": "stdout",
          "text": [
            "['Neutral']\n"
          ]
        }
      ]
    },
    {
      "cell_type": "code",
      "source": [
        "type(ans)"
      ],
      "metadata": {
        "colab": {
          "base_uri": "https://localhost:8080/"
        },
        "id": "1nbhUytgOeen",
        "outputId": "ea85ee3d-d4da-40fe-b3ef-37e16be6bb2f"
      },
      "execution_count": null,
      "outputs": [
        {
          "output_type": "execute_result",
          "data": {
            "text/plain": [
              "numpy.ndarray"
            ]
          },
          "metadata": {},
          "execution_count": 53
        }
      ]
    },
    {
      "cell_type": "code",
      "source": [
        "new_mood = ans[0]\n",
        "print(new_mood)"
      ],
      "metadata": {
        "colab": {
          "base_uri": "https://localhost:8080/"
        },
        "id": "6Tlr5NOSOr-e",
        "outputId": "6ec47f88-1a81-43c9-cd71-3711c5c2547a"
      },
      "execution_count": null,
      "outputs": [
        {
          "output_type": "stream",
          "name": "stdout",
          "text": [
            "Neutral\n"
          ]
        }
      ]
    },
    {
      "cell_type": "code",
      "source": [
        "type(new_mood)"
      ],
      "metadata": {
        "colab": {
          "base_uri": "https://localhost:8080/"
        },
        "id": "lJU2x9d9O1Si",
        "outputId": "4a9972f3-081d-41de-d74c-9f3bcaeadc35"
      },
      "execution_count": null,
      "outputs": [
        {
          "output_type": "execute_result",
          "data": {
            "text/plain": [
              "numpy.str_"
            ]
          },
          "metadata": {},
          "execution_count": 55
        }
      ]
    },
    {
      "cell_type": "code",
      "source": [
        "#General concepts"
      ],
      "metadata": {
        "id": "4J20rPzrO36r"
      },
      "execution_count": null,
      "outputs": []
    },
    {
      "cell_type": "code",
      "source": [
        "b = np.arange(16)\n",
        "print(b)"
      ],
      "metadata": {
        "colab": {
          "base_uri": "https://localhost:8080/"
        },
        "id": "GynXDovFPy3o",
        "outputId": "e9380240-5722-467b-ceff-8dcf3c8a69ff"
      },
      "execution_count": null,
      "outputs": [
        {
          "output_type": "stream",
          "name": "stdout",
          "text": [
            "[ 0  1  2  3  4  5  6  7  8  9 10 11 12 13 14 15]\n"
          ]
        }
      ]
    },
    {
      "cell_type": "code",
      "source": [
        "b.ndim"
      ],
      "metadata": {
        "colab": {
          "base_uri": "https://localhost:8080/"
        },
        "id": "G-kbi-U1S2z6",
        "outputId": "b2a23174-e72c-4c01-c3ee-6db21a6b7649"
      },
      "execution_count": null,
      "outputs": [
        {
          "output_type": "execute_result",
          "data": {
            "text/plain": [
              "1"
            ]
          },
          "metadata": {},
          "execution_count": 58
        }
      ]
    },
    {
      "cell_type": "code",
      "source": [
        "b.shape"
      ],
      "metadata": {
        "colab": {
          "base_uri": "https://localhost:8080/"
        },
        "id": "podk3gL9S-Sc",
        "outputId": "fcf881d3-7437-49c8-b215-03abe8ed6ffa"
      },
      "execution_count": null,
      "outputs": [
        {
          "output_type": "execute_result",
          "data": {
            "text/plain": [
              "(16,)"
            ]
          },
          "metadata": {},
          "execution_count": 59
        }
      ]
    },
    {
      "cell_type": "code",
      "source": [
        "#reshape\n",
        "\n",
        "c = b.reshape(8, 2)"
      ],
      "metadata": {
        "id": "cGNxKgQ0TDUH"
      },
      "execution_count": null,
      "outputs": []
    },
    {
      "cell_type": "code",
      "source": [
        "print(c)"
      ],
      "metadata": {
        "colab": {
          "base_uri": "https://localhost:8080/"
        },
        "id": "2tYbadLiTNln",
        "outputId": "16058873-0240-4990-9196-62c6cc81da94"
      },
      "execution_count": null,
      "outputs": [
        {
          "output_type": "stream",
          "name": "stdout",
          "text": [
            "[[ 0  1]\n",
            " [ 2  3]\n",
            " [ 4  5]\n",
            " [ 6  7]\n",
            " [ 8  9]\n",
            " [10 11]\n",
            " [12 13]\n",
            " [14 15]]\n"
          ]
        }
      ]
    },
    {
      "cell_type": "code",
      "source": [
        "print(b)"
      ],
      "metadata": {
        "colab": {
          "base_uri": "https://localhost:8080/"
        },
        "id": "kGLxGhfLTOj4",
        "outputId": "4a7e64de-0bfc-4100-f268-5c402c57309c"
      },
      "execution_count": null,
      "outputs": [
        {
          "output_type": "stream",
          "name": "stdout",
          "text": [
            "[ 0  1  2  3  4  5  6  7  8  9 10 11 12 13 14 15]\n"
          ]
        }
      ]
    },
    {
      "cell_type": "code",
      "source": [
        "c.shape"
      ],
      "metadata": {
        "colab": {
          "base_uri": "https://localhost:8080/"
        },
        "id": "iifGIM5GTXlu",
        "outputId": "b5cbb22f-2f25-4f7e-8fe2-9f9681ef7e21"
      },
      "execution_count": null,
      "outputs": [
        {
          "output_type": "execute_result",
          "data": {
            "text/plain": [
              "(8, 2)"
            ]
          },
          "metadata": {},
          "execution_count": 63
        }
      ]
    },
    {
      "cell_type": "code",
      "source": [
        "d = b.reshape(8, 3)"
      ],
      "metadata": {
        "colab": {
          "base_uri": "https://localhost:8080/",
          "height": 176
        },
        "id": "EpQxnFZmTmLI",
        "outputId": "1a881d4d-ae7a-40a4-85ac-a387d75c9386"
      },
      "execution_count": null,
      "outputs": [
        {
          "output_type": "error",
          "ename": "ValueError",
          "evalue": "ignored",
          "traceback": [
            "\u001b[0;31m---------------------------------------------------------------------------\u001b[0m",
            "\u001b[0;31mValueError\u001b[0m                                Traceback (most recent call last)",
            "\u001b[0;32m<ipython-input-64-95e0503b4e20>\u001b[0m in \u001b[0;36m<cell line: 1>\u001b[0;34m()\u001b[0m\n\u001b[0;32m----> 1\u001b[0;31m \u001b[0md\u001b[0m \u001b[0;34m=\u001b[0m \u001b[0mb\u001b[0m\u001b[0;34m.\u001b[0m\u001b[0mreshape\u001b[0m\u001b[0;34m(\u001b[0m\u001b[0;36m8\u001b[0m\u001b[0;34m,\u001b[0m \u001b[0;36m3\u001b[0m\u001b[0;34m)\u001b[0m\u001b[0;34m\u001b[0m\u001b[0;34m\u001b[0m\u001b[0m\n\u001b[0m",
            "\u001b[0;31mValueError\u001b[0m: cannot reshape array of size 16 into shape (8,3)"
          ]
        }
      ]
    },
    {
      "cell_type": "code",
      "source": [
        "d = b.reshape(4,4)\n",
        "print(d)"
      ],
      "metadata": {
        "colab": {
          "base_uri": "https://localhost:8080/"
        },
        "id": "4ziubWpeT5Kp",
        "outputId": "9df11ef1-d3d3-4e56-fbe2-44018dff11dd"
      },
      "execution_count": null,
      "outputs": [
        {
          "output_type": "stream",
          "name": "stdout",
          "text": [
            "[[ 0  1  2  3]\n",
            " [ 4  5  6  7]\n",
            " [ 8  9 10 11]\n",
            " [12 13 14 15]]\n"
          ]
        }
      ]
    },
    {
      "cell_type": "code",
      "source": [
        "d = b.reshape(8, -1)\n",
        "print(d)"
      ],
      "metadata": {
        "colab": {
          "base_uri": "https://localhost:8080/"
        },
        "id": "UEGREndnUGY2",
        "outputId": "b6fa46b6-aacc-4cad-90c4-d834660f282d"
      },
      "execution_count": null,
      "outputs": [
        {
          "output_type": "stream",
          "name": "stdout",
          "text": [
            "[[ 0  1]\n",
            " [ 2  3]\n",
            " [ 4  5]\n",
            " [ 6  7]\n",
            " [ 8  9]\n",
            " [10 11]\n",
            " [12 13]\n",
            " [14 15]]\n"
          ]
        }
      ]
    },
    {
      "cell_type": "code",
      "source": [
        "d = b.reshape(3, -1)\n",
        "print(d)"
      ],
      "metadata": {
        "colab": {
          "base_uri": "https://localhost:8080/",
          "height": 194
        },
        "id": "hyanry14UXcF",
        "outputId": "4ed662ed-8d85-4d19-e6e1-40b16d25555e"
      },
      "execution_count": null,
      "outputs": [
        {
          "output_type": "error",
          "ename": "ValueError",
          "evalue": "ignored",
          "traceback": [
            "\u001b[0;31m---------------------------------------------------------------------------\u001b[0m",
            "\u001b[0;31mValueError\u001b[0m                                Traceback (most recent call last)",
            "\u001b[0;32m<ipython-input-67-0eb1849d2309>\u001b[0m in \u001b[0;36m<cell line: 1>\u001b[0;34m()\u001b[0m\n\u001b[0;32m----> 1\u001b[0;31m \u001b[0md\u001b[0m \u001b[0;34m=\u001b[0m \u001b[0mb\u001b[0m\u001b[0;34m.\u001b[0m\u001b[0mreshape\u001b[0m\u001b[0;34m(\u001b[0m\u001b[0;36m3\u001b[0m\u001b[0;34m,\u001b[0m \u001b[0;34m-\u001b[0m\u001b[0;36m1\u001b[0m\u001b[0;34m)\u001b[0m\u001b[0;34m\u001b[0m\u001b[0;34m\u001b[0m\u001b[0m\n\u001b[0m\u001b[1;32m      2\u001b[0m \u001b[0mprint\u001b[0m\u001b[0;34m(\u001b[0m\u001b[0md\u001b[0m\u001b[0;34m)\u001b[0m\u001b[0;34m\u001b[0m\u001b[0;34m\u001b[0m\u001b[0m\n",
            "\u001b[0;31mValueError\u001b[0m: cannot reshape array of size 16 into shape (3,newaxis)"
          ]
        }
      ]
    },
    {
      "cell_type": "code",
      "source": [
        "d = b.reshape(4, -5)\n",
        "print(d)"
      ],
      "metadata": {
        "colab": {
          "base_uri": "https://localhost:8080/"
        },
        "id": "HjKJ2Gz_UiAR",
        "outputId": "ac5c6ca8-f035-41e1-dcbf-d0471a609dae"
      },
      "execution_count": null,
      "outputs": [
        {
          "output_type": "stream",
          "name": "stdout",
          "text": [
            "[[ 0  1  2  3]\n",
            " [ 4  5  6  7]\n",
            " [ 8  9 10 11]\n",
            " [12 13 14 15]]\n"
          ]
        }
      ]
    },
    {
      "cell_type": "code",
      "source": [
        "d = b.reshape(-1, 8)\n",
        "print(d)"
      ],
      "metadata": {
        "colab": {
          "base_uri": "https://localhost:8080/"
        },
        "id": "bzhJ4B5bUr4Q",
        "outputId": "98d38390-57bd-4f2d-cf34-4f7229bb89ac"
      },
      "execution_count": null,
      "outputs": [
        {
          "output_type": "stream",
          "name": "stdout",
          "text": [
            "[[ 0  1  2  3  4  5  6  7]\n",
            " [ 8  9 10 11 12 13 14 15]]\n"
          ]
        }
      ]
    },
    {
      "cell_type": "code",
      "source": [
        "d.shape"
      ],
      "metadata": {
        "colab": {
          "base_uri": "https://localhost:8080/"
        },
        "id": "ruocLzpiVCzr",
        "outputId": "353ac31f-955e-4db0-f68c-4080a11c145b"
      },
      "execution_count": null,
      "outputs": [
        {
          "output_type": "execute_result",
          "data": {
            "text/plain": [
              "(2, 8)"
            ]
          },
          "metadata": {},
          "execution_count": 70
        }
      ]
    },
    {
      "cell_type": "code",
      "source": [
        "d = b.reshape(4,4)\n",
        "print(d)"
      ],
      "metadata": {
        "colab": {
          "base_uri": "https://localhost:8080/"
        },
        "id": "8rrSsW0sVEU7",
        "outputId": "34df0dd4-f685-489e-b2e9-4005445dc0ff"
      },
      "execution_count": null,
      "outputs": [
        {
          "output_type": "stream",
          "name": "stdout",
          "text": [
            "[[ 0  1  2  3]\n",
            " [ 4  5  6  7]\n",
            " [ 8  9 10 11]\n",
            " [12 13 14 15]]\n"
          ]
        }
      ]
    },
    {
      "cell_type": "code",
      "source": [
        "print(d[1])"
      ],
      "metadata": {
        "colab": {
          "base_uri": "https://localhost:8080/"
        },
        "id": "am3WCqisVOc1",
        "outputId": "57f13a84-7b6e-4111-c8b5-0d5328bb18ef"
      },
      "execution_count": null,
      "outputs": [
        {
          "output_type": "stream",
          "name": "stdout",
          "text": [
            "[4 5 6 7]\n"
          ]
        }
      ]
    },
    {
      "cell_type": "code",
      "source": [
        "#Quiz\n",
        "\n",
        "a = np.array([0,1,2,3,4,5])\n",
        "mask = (a%2 == 0)\n",
        "a[mask] = -1"
      ],
      "metadata": {
        "id": "r1PmXE54Vdh5"
      },
      "execution_count": null,
      "outputs": []
    },
    {
      "cell_type": "code",
      "source": [
        "print(a)"
      ],
      "metadata": {
        "colab": {
          "base_uri": "https://localhost:8080/"
        },
        "id": "ZanCv2sKVyAO",
        "outputId": "3a41e490-4c3b-41cd-90bb-0936443604fd"
      },
      "execution_count": null,
      "outputs": [
        {
          "output_type": "stream",
          "name": "stdout",
          "text": [
            "[-1  1 -1  3 -1  5]\n"
          ]
        }
      ]
    },
    {
      "cell_type": "code",
      "source": [
        "d = b.reshape(4,4)\n",
        "print(d)"
      ],
      "metadata": {
        "colab": {
          "base_uri": "https://localhost:8080/"
        },
        "id": "BOxUgNFdVzVg",
        "outputId": "88183ef3-a138-4d83-f95d-d3ef0a5bfdc2"
      },
      "execution_count": null,
      "outputs": [
        {
          "output_type": "stream",
          "name": "stdout",
          "text": [
            "[[ 0  1  2  3]\n",
            " [ 4  5  6  7]\n",
            " [ 8  9 10 11]\n",
            " [12 13 14 15]]\n"
          ]
        }
      ]
    },
    {
      "cell_type": "code",
      "source": [
        "#indexing in 2D numpy array"
      ],
      "metadata": {
        "id": "60wJ9W4MWJMa"
      },
      "execution_count": null,
      "outputs": []
    },
    {
      "cell_type": "code",
      "source": [
        "print(d[1])"
      ],
      "metadata": {
        "colab": {
          "base_uri": "https://localhost:8080/"
        },
        "id": "ZjhuZqRvWLKh",
        "outputId": "321e3e56-4c0f-4a9e-fdb3-9b3498461af1"
      },
      "execution_count": null,
      "outputs": [
        {
          "output_type": "stream",
          "name": "stdout",
          "text": [
            "[4 5 6 7]\n"
          ]
        }
      ]
    },
    {
      "cell_type": "code",
      "source": [
        "print(d[1][3])"
      ],
      "metadata": {
        "colab": {
          "base_uri": "https://localhost:8080/"
        },
        "id": "2pBuHoTIWM-g",
        "outputId": "d91583c8-bfe2-4227-a2c8-eb99a8c12406"
      },
      "execution_count": null,
      "outputs": [
        {
          "output_type": "stream",
          "name": "stdout",
          "text": [
            "7\n"
          ]
        }
      ]
    },
    {
      "cell_type": "code",
      "source": [
        "print(d[1 , 3])"
      ],
      "metadata": {
        "colab": {
          "base_uri": "https://localhost:8080/"
        },
        "id": "YgVHj9yfWTTs",
        "outputId": "6ce8fbe2-5c91-4e09-cb6c-d5557ee92be9"
      },
      "execution_count": null,
      "outputs": [
        {
          "output_type": "stream",
          "name": "stdout",
          "text": [
            "7\n"
          ]
        }
      ]
    },
    {
      "cell_type": "code",
      "source": [
        "print(d[2,3])"
      ],
      "metadata": {
        "colab": {
          "base_uri": "https://localhost:8080/"
        },
        "id": "qVU4rP0WWZMH",
        "outputId": "d093d88d-acfc-431c-b064-ce0e88f71e6b"
      },
      "execution_count": null,
      "outputs": [
        {
          "output_type": "stream",
          "name": "stdout",
          "text": [
            "11\n"
          ]
        }
      ]
    },
    {
      "cell_type": "code",
      "source": [
        "print(d[2,4])"
      ],
      "metadata": {
        "colab": {
          "base_uri": "https://localhost:8080/",
          "height": 176
        },
        "id": "Hi8xCF33WiWu",
        "outputId": "e89ed4c3-126d-40ee-ae55-ad241f2aa9f9"
      },
      "execution_count": null,
      "outputs": [
        {
          "output_type": "error",
          "ename": "IndexError",
          "evalue": "ignored",
          "traceback": [
            "\u001b[0;31m---------------------------------------------------------------------------\u001b[0m",
            "\u001b[0;31mIndexError\u001b[0m                                Traceback (most recent call last)",
            "\u001b[0;32m<ipython-input-81-6f6313ae50a0>\u001b[0m in \u001b[0;36m<cell line: 1>\u001b[0;34m()\u001b[0m\n\u001b[0;32m----> 1\u001b[0;31m \u001b[0mprint\u001b[0m\u001b[0;34m(\u001b[0m\u001b[0md\u001b[0m\u001b[0;34m[\u001b[0m\u001b[0;36m2\u001b[0m\u001b[0;34m,\u001b[0m\u001b[0;36m4\u001b[0m\u001b[0;34m]\u001b[0m\u001b[0;34m)\u001b[0m\u001b[0;34m\u001b[0m\u001b[0;34m\u001b[0m\u001b[0m\n\u001b[0m",
            "\u001b[0;31mIndexError\u001b[0m: index 4 is out of bounds for axis 1 with size 4"
          ]
        }
      ]
    },
    {
      "cell_type": "code",
      "source": [
        "a = np.arange(12).reshape(3,4)\n",
        "print(a)"
      ],
      "metadata": {
        "colab": {
          "base_uri": "https://localhost:8080/"
        },
        "id": "x97ALNQzWorb",
        "outputId": "97c0389e-f0d4-4144-933e-9b2fe9986186"
      },
      "execution_count": null,
      "outputs": [
        {
          "output_type": "stream",
          "name": "stdout",
          "text": [
            "[[ 0  1  2  3]\n",
            " [ 4  5  6  7]\n",
            " [ 8  9 10 11]]\n"
          ]
        }
      ]
    },
    {
      "cell_type": "code",
      "source": [
        "#creating 1D np array\n",
        "\n",
        "\n",
        "a = np.array([5,7,2])\n",
        "print(a)"
      ],
      "metadata": {
        "colab": {
          "base_uri": "https://localhost:8080/"
        },
        "id": "Y7G3UkYCW0HM",
        "outputId": "516fb02e-08a8-4355-b99c-089681fd7f3d"
      },
      "execution_count": null,
      "outputs": [
        {
          "output_type": "stream",
          "name": "stdout",
          "text": [
            "[5 7 2]\n"
          ]
        }
      ]
    },
    {
      "cell_type": "code",
      "source": [
        "#creating 2D np array\n",
        "\n",
        "\n",
        "a = np.array([[4,8,1], [5,7,2]])\n",
        "print(a)"
      ],
      "metadata": {
        "colab": {
          "base_uri": "https://localhost:8080/"
        },
        "id": "B0b4wiJdXAOE",
        "outputId": "d56db225-3571-417e-80f5-c69c9d3e71d8"
      },
      "execution_count": null,
      "outputs": [
        {
          "output_type": "stream",
          "name": "stdout",
          "text": [
            "[[4 8 1]\n",
            " [5 7 2]]\n"
          ]
        }
      ]
    },
    {
      "cell_type": "code",
      "source": [
        "a.ndim"
      ],
      "metadata": {
        "colab": {
          "base_uri": "https://localhost:8080/"
        },
        "id": "f6MQjK4sXIOc",
        "outputId": "2cedc826-c0e7-467b-d4b4-a4fedd2b5696"
      },
      "execution_count": null,
      "outputs": [
        {
          "output_type": "execute_result",
          "data": {
            "text/plain": [
              "2"
            ]
          },
          "metadata": {},
          "execution_count": 85
        }
      ]
    },
    {
      "cell_type": "code",
      "source": [
        "a = np.arange(1, 10 , 2)\n",
        "print(a)"
      ],
      "metadata": {
        "colab": {
          "base_uri": "https://localhost:8080/"
        },
        "id": "ftjHptdjXNZ8",
        "outputId": "21832954-47df-4e15-ee6c-37371aec096b"
      },
      "execution_count": null,
      "outputs": [
        {
          "output_type": "stream",
          "name": "stdout",
          "text": [
            "[1 3 5 7 9]\n"
          ]
        }
      ]
    },
    {
      "cell_type": "code",
      "source": [
        "m1 = np.arange(1, 10).reshape(3,3)\n",
        "print(m1)"
      ],
      "metadata": {
        "colab": {
          "base_uri": "https://localhost:8080/"
        },
        "id": "CcdXVkpjXtUF",
        "outputId": "bbf98e44-2ae5-4ffe-94e8-975b1f6d8e05"
      },
      "execution_count": null,
      "outputs": [
        {
          "output_type": "stream",
          "name": "stdout",
          "text": [
            "[[1 2 3]\n",
            " [4 5 6]\n",
            " [7 8 9]]\n"
          ]
        }
      ]
    },
    {
      "cell_type": "code",
      "source": [
        "#multi-indexing in 1D\n",
        "\n",
        "a = np.arange(5,10)\n",
        "print(a)"
      ],
      "metadata": {
        "colab": {
          "base_uri": "https://localhost:8080/"
        },
        "id": "-EbMk24kX12M",
        "outputId": "5279641d-0cc8-4bb4-cb85-2a35d49b9ff3"
      },
      "execution_count": null,
      "outputs": [
        {
          "output_type": "stream",
          "name": "stdout",
          "text": [
            "[5 6 7 8 9]\n"
          ]
        }
      ]
    },
    {
      "cell_type": "code",
      "source": [
        "print(a[[4,1]])"
      ],
      "metadata": {
        "colab": {
          "base_uri": "https://localhost:8080/"
        },
        "id": "83o1H-Q0YAF9",
        "outputId": "b6c101d9-1078-4082-a5fa-5340f844f6bc"
      },
      "execution_count": null,
      "outputs": [
        {
          "output_type": "stream",
          "name": "stdout",
          "text": [
            "[9 6]\n"
          ]
        }
      ]
    },
    {
      "cell_type": "code",
      "source": [
        "#multi-indexing in 2D\n",
        "\n",
        "m1 = np.arange(1, 10).reshape(3,3)\n",
        "print(m1)"
      ],
      "metadata": {
        "colab": {
          "base_uri": "https://localhost:8080/"
        },
        "id": "rt_K-wisYHdz",
        "outputId": "03fa1ba7-6b20-462b-b246-deccbc360c46"
      },
      "execution_count": null,
      "outputs": [
        {
          "output_type": "stream",
          "name": "stdout",
          "text": [
            "[[1 2 3]\n",
            " [4 5 6]\n",
            " [7 8 9]]\n"
          ]
        }
      ]
    },
    {
      "cell_type": "code",
      "source": [
        "print(m1[ [0,1,2] , [0,1,2] ])"
      ],
      "metadata": {
        "colab": {
          "base_uri": "https://localhost:8080/"
        },
        "id": "V5dGjfFUYMsX",
        "outputId": "0b8b0b7c-45d5-4180-e8b7-29aa8764a22b"
      },
      "execution_count": null,
      "outputs": [
        {
          "output_type": "stream",
          "name": "stdout",
          "text": [
            "[1 5 9]\n"
          ]
        }
      ]
    },
    {
      "cell_type": "code",
      "source": [
        "print(m1[ [0,1,2] , [2,0,1] ])"
      ],
      "metadata": {
        "colab": {
          "base_uri": "https://localhost:8080/"
        },
        "id": "Lnnb_u_aYkFC",
        "outputId": "8e852df8-bc12-40d8-9382-5fecce4d5557"
      },
      "execution_count": null,
      "outputs": [
        {
          "output_type": "stream",
          "name": "stdout",
          "text": [
            "[3 4 8]\n"
          ]
        }
      ]
    },
    {
      "cell_type": "code",
      "source": [
        "#slicing in 2D\n",
        "\n",
        "a = np.arange(12).reshape(3,4)\n",
        "print(a)"
      ],
      "metadata": {
        "colab": {
          "base_uri": "https://localhost:8080/"
        },
        "id": "IZQgNsdWY21r",
        "outputId": "0b0999e9-045d-47be-f4a8-0a12af42fb65"
      },
      "execution_count": null,
      "outputs": [
        {
          "output_type": "stream",
          "name": "stdout",
          "text": [
            "[[ 0  1  2  3]\n",
            " [ 4  5  6  7]\n",
            " [ 8  9 10 11]]\n"
          ]
        }
      ]
    },
    {
      "cell_type": "code",
      "source": [
        "print(a[0:2])"
      ],
      "metadata": {
        "colab": {
          "base_uri": "https://localhost:8080/"
        },
        "id": "OoTIs17oZAUi",
        "outputId": "ed45b966-93c0-45fc-8a79-d6b924e1f788"
      },
      "execution_count": null,
      "outputs": [
        {
          "output_type": "stream",
          "name": "stdout",
          "text": [
            "[[0 1 2 3]\n",
            " [4 5 6 7]]\n"
          ]
        }
      ]
    },
    {
      "cell_type": "code",
      "source": [
        "print(a[:, 0:2])"
      ],
      "metadata": {
        "colab": {
          "base_uri": "https://localhost:8080/"
        },
        "id": "fuMj86UJZFu0",
        "outputId": "6e7d5083-903b-44af-d8c2-0fdd761393b8"
      },
      "execution_count": null,
      "outputs": [
        {
          "output_type": "stream",
          "name": "stdout",
          "text": [
            "[[0 1]\n",
            " [4 5]\n",
            " [8 9]]\n"
          ]
        }
      ]
    },
    {
      "cell_type": "code",
      "source": [
        "print(a[:, 1:3])"
      ],
      "metadata": {
        "colab": {
          "base_uri": "https://localhost:8080/"
        },
        "id": "YK4npSk0ZOPD",
        "outputId": "bd486ffc-702b-40f3-9d00-63c7b729161a"
      },
      "execution_count": null,
      "outputs": [
        {
          "output_type": "stream",
          "name": "stdout",
          "text": [
            "[[ 1  2]\n",
            " [ 5  6]\n",
            " [ 9 10]]\n"
          ]
        }
      ]
    },
    {
      "cell_type": "code",
      "source": [
        "print(a)"
      ],
      "metadata": {
        "colab": {
          "base_uri": "https://localhost:8080/"
        },
        "id": "Ual8auGYZcnN",
        "outputId": "b8b0bfae-8d22-4d3d-9636-073b49586b03"
      },
      "execution_count": null,
      "outputs": [
        {
          "output_type": "stream",
          "name": "stdout",
          "text": [
            "[[ 0  1  2  3]\n",
            " [ 4  5  6  7]\n",
            " [ 8  9 10 11]]\n"
          ]
        }
      ]
    },
    {
      "cell_type": "code",
      "source": [
        "print(a[0:2 , 1:3] )"
      ],
      "metadata": {
        "colab": {
          "base_uri": "https://localhost:8080/"
        },
        "id": "D643F-JlZiHx",
        "outputId": "caab4710-1dd1-4fd2-b1bb-18642e27e73b"
      },
      "execution_count": null,
      "outputs": [
        {
          "output_type": "stream",
          "name": "stdout",
          "text": [
            "[[1 2]\n",
            " [5 6]]\n"
          ]
        }
      ]
    },
    {
      "cell_type": "code",
      "source": [
        "print(a[1, 1:3])"
      ],
      "metadata": {
        "colab": {
          "base_uri": "https://localhost:8080/"
        },
        "id": "AYbvaWTzZtdo",
        "outputId": "853b52b3-2da9-466a-dbde-55da8ea7a825"
      },
      "execution_count": null,
      "outputs": [
        {
          "output_type": "stream",
          "name": "stdout",
          "text": [
            "[5 6]\n"
          ]
        }
      ]
    },
    {
      "cell_type": "code",
      "source": [
        "#Fancy indexing - masking in 2D"
      ],
      "metadata": {
        "id": "c0STVWdIZ__L"
      },
      "execution_count": null,
      "outputs": []
    },
    {
      "cell_type": "code",
      "source": [
        "print(a)"
      ],
      "metadata": {
        "colab": {
          "base_uri": "https://localhost:8080/"
        },
        "id": "XU0SVvItaGr9",
        "outputId": "96d04b74-8c80-43b9-de53-2502b776f5ff"
      },
      "execution_count": null,
      "outputs": [
        {
          "output_type": "stream",
          "name": "stdout",
          "text": [
            "[[ 0  1  2  3]\n",
            " [ 4  5  6  7]\n",
            " [ 8  9 10 11]]\n"
          ]
        }
      ]
    },
    {
      "cell_type": "code",
      "source": [
        "print(a<6)"
      ],
      "metadata": {
        "colab": {
          "base_uri": "https://localhost:8080/"
        },
        "id": "2YklKlwTaLuS",
        "outputId": "b52dca31-f4ae-481b-ed5d-97f8e5856a0e"
      },
      "execution_count": null,
      "outputs": [
        {
          "output_type": "stream",
          "name": "stdout",
          "text": [
            "[[ True  True  True  True]\n",
            " [ True  True False False]\n",
            " [False False False False]]\n"
          ]
        }
      ]
    },
    {
      "cell_type": "code",
      "source": [
        "print(a[a<6])"
      ],
      "metadata": {
        "colab": {
          "base_uri": "https://localhost:8080/"
        },
        "id": "j4QVc5tSaNQW",
        "outputId": "7b3831cd-1d98-4b8a-cfa0-a1fdbcd3d299"
      },
      "execution_count": null,
      "outputs": [
        {
          "output_type": "stream",
          "name": "stdout",
          "text": [
            "[0 1 2 3 4 5]\n"
          ]
        }
      ]
    },
    {
      "cell_type": "code",
      "source": [
        "a = np.arange(3)\n",
        "print(a)"
      ],
      "metadata": {
        "colab": {
          "base_uri": "https://localhost:8080/"
        },
        "id": "je3SZw5EaR5s",
        "outputId": "feaaf8ea-1d80-4562-f714-5d5713d885e9"
      },
      "execution_count": null,
      "outputs": [
        {
          "output_type": "stream",
          "name": "stdout",
          "text": [
            "[0 1 2]\n"
          ]
        }
      ]
    },
    {
      "cell_type": "code",
      "source": [
        "a.sum()"
      ],
      "metadata": {
        "colab": {
          "base_uri": "https://localhost:8080/"
        },
        "id": "vTQGK43Aab7J",
        "outputId": "bfba9e79-c574-44d0-98c5-6260f8ecf0f5"
      },
      "execution_count": null,
      "outputs": [
        {
          "output_type": "execute_result",
          "data": {
            "text/plain": [
              "3"
            ]
          },
          "metadata": {},
          "execution_count": 106
        }
      ]
    },
    {
      "cell_type": "code",
      "source": [
        "a.mean()"
      ],
      "metadata": {
        "colab": {
          "base_uri": "https://localhost:8080/"
        },
        "id": "SrJ5ioQjadwV",
        "outputId": "3b2cff18-7195-47de-be34-e741e86d7c65"
      },
      "execution_count": null,
      "outputs": [
        {
          "output_type": "execute_result",
          "data": {
            "text/plain": [
              "1.0"
            ]
          },
          "metadata": {},
          "execution_count": 107
        }
      ]
    },
    {
      "cell_type": "code",
      "source": [
        "a.min()"
      ],
      "metadata": {
        "colab": {
          "base_uri": "https://localhost:8080/"
        },
        "id": "FYNVZDgzafph",
        "outputId": "e2a6cea4-5923-4764-d54f-b0d2ffa07bd8"
      },
      "execution_count": null,
      "outputs": [
        {
          "output_type": "execute_result",
          "data": {
            "text/plain": [
              "0"
            ]
          },
          "metadata": {},
          "execution_count": 108
        }
      ]
    },
    {
      "cell_type": "code",
      "source": [
        "#aggregation in 2D"
      ],
      "metadata": {
        "id": "WrnAXkQOahV0"
      },
      "execution_count": null,
      "outputs": []
    },
    {
      "cell_type": "code",
      "source": [
        "a = np.arange(12).reshape(3,4)\n",
        "print(a)"
      ],
      "metadata": {
        "colab": {
          "base_uri": "https://localhost:8080/"
        },
        "id": "yG6HMg3NanaF",
        "outputId": "e54d5460-6268-4633-9e31-c74505b78e64"
      },
      "execution_count": null,
      "outputs": [
        {
          "output_type": "stream",
          "name": "stdout",
          "text": [
            "[[ 0  1  2  3]\n",
            " [ 4  5  6  7]\n",
            " [ 8  9 10 11]]\n"
          ]
        }
      ]
    },
    {
      "cell_type": "code",
      "source": [
        "np.sum(a, axis = 0) #column-wise sum"
      ],
      "metadata": {
        "colab": {
          "base_uri": "https://localhost:8080/"
        },
        "id": "5nX3NeGIa0bj",
        "outputId": "578f0189-1dc7-4fa9-8f41-2e24a5dc4905"
      },
      "execution_count": null,
      "outputs": [
        {
          "output_type": "execute_result",
          "data": {
            "text/plain": [
              "array([12, 15, 18, 21])"
            ]
          },
          "metadata": {},
          "execution_count": 111
        }
      ]
    },
    {
      "cell_type": "code",
      "source": [
        "np.sum(a, axis = 1) #row-wise sum"
      ],
      "metadata": {
        "colab": {
          "base_uri": "https://localhost:8080/"
        },
        "id": "ZDemP3p7bHWg",
        "outputId": "f531ee39-0414-4020-f398-074f52ab7a09"
      },
      "execution_count": null,
      "outputs": [
        {
          "output_type": "execute_result",
          "data": {
            "text/plain": [
              "array([ 6, 22, 38])"
            ]
          },
          "metadata": {},
          "execution_count": 112
        }
      ]
    },
    {
      "cell_type": "code",
      "source": [
        "#logical operations"
      ],
      "metadata": {
        "id": "lyMJxxfybUj6"
      },
      "execution_count": null,
      "outputs": []
    },
    {
      "cell_type": "code",
      "source": [
        "a = np.arange(7)\n",
        "print(a)"
      ],
      "metadata": {
        "colab": {
          "base_uri": "https://localhost:8080/"
        },
        "id": "CnroHAK-bksX",
        "outputId": "7b47a911-2592-41c9-cf71-67e1ee44ef96"
      },
      "execution_count": null,
      "outputs": [
        {
          "output_type": "stream",
          "name": "stdout",
          "text": [
            "[0 1 2 3 4 5 6]\n"
          ]
        }
      ]
    },
    {
      "cell_type": "code",
      "source": [
        "a < 3"
      ],
      "metadata": {
        "colab": {
          "base_uri": "https://localhost:8080/"
        },
        "id": "cdCx93eJbroS",
        "outputId": "59a76d73-46ff-419e-be0e-7ca476770e62"
      },
      "execution_count": null,
      "outputs": [
        {
          "output_type": "execute_result",
          "data": {
            "text/plain": [
              "array([ True,  True,  True, False, False, False, False])"
            ]
          },
          "metadata": {},
          "execution_count": 115
        }
      ]
    },
    {
      "cell_type": "code",
      "source": [
        "np.any(a<3)"
      ],
      "metadata": {
        "colab": {
          "base_uri": "https://localhost:8080/"
        },
        "id": "GTUn5pBbbuoJ",
        "outputId": "ad1d11bb-feb1-41fd-f0ff-490c4d08cb7f"
      },
      "execution_count": null,
      "outputs": [
        {
          "output_type": "execute_result",
          "data": {
            "text/plain": [
              "True"
            ]
          },
          "metadata": {},
          "execution_count": 116
        }
      ]
    },
    {
      "cell_type": "code",
      "source": [
        "np.any(a<5)"
      ],
      "metadata": {
        "colab": {
          "base_uri": "https://localhost:8080/"
        },
        "id": "51W0Pbsib7ax",
        "outputId": "23ddbcfb-ee71-44c5-f65d-62ffc2256fb1"
      },
      "execution_count": null,
      "outputs": [
        {
          "output_type": "execute_result",
          "data": {
            "text/plain": [
              "True"
            ]
          },
          "metadata": {},
          "execution_count": 117
        }
      ]
    },
    {
      "cell_type": "code",
      "source": [
        "np.any(a>10)"
      ],
      "metadata": {
        "colab": {
          "base_uri": "https://localhost:8080/"
        },
        "id": "M9dUj1oycCJt",
        "outputId": "48bef8a4-06f0-43e9-ed8f-d2c845bbdc47"
      },
      "execution_count": null,
      "outputs": [
        {
          "output_type": "execute_result",
          "data": {
            "text/plain": [
              "False"
            ]
          },
          "metadata": {},
          "execution_count": 118
        }
      ]
    },
    {
      "cell_type": "code",
      "source": [
        "np.all(a<3)"
      ],
      "metadata": {
        "colab": {
          "base_uri": "https://localhost:8080/"
        },
        "id": "s2DXiowjcGgf",
        "outputId": "adb34570-6c3f-4c48-bb96-0ccb108d7398"
      },
      "execution_count": null,
      "outputs": [
        {
          "output_type": "execute_result",
          "data": {
            "text/plain": [
              "False"
            ]
          },
          "metadata": {},
          "execution_count": 119
        }
      ]
    },
    {
      "cell_type": "code",
      "source": [
        "np.all(a<10)"
      ],
      "metadata": {
        "colab": {
          "base_uri": "https://localhost:8080/"
        },
        "id": "q_xD3gjocUv_",
        "outputId": "147ac99a-e7c8-458a-9902-3cb9e7755f80"
      },
      "execution_count": null,
      "outputs": [
        {
          "output_type": "execute_result",
          "data": {
            "text/plain": [
              "True"
            ]
          },
          "metadata": {},
          "execution_count": 120
        }
      ]
    },
    {
      "cell_type": "code",
      "source": [
        "#Quiz\n",
        "\n",
        "a = np.array([0,2,3])\n",
        "b = np.array([1,3,5])\n",
        "\n",
        "a >= b #element wise comparison"
      ],
      "metadata": {
        "colab": {
          "base_uri": "https://localhost:8080/"
        },
        "id": "Wj6z9dvWcY3S",
        "outputId": "33f7f207-7442-4218-864e-0b874bdece1c"
      },
      "execution_count": null,
      "outputs": [
        {
          "output_type": "execute_result",
          "data": {
            "text/plain": [
              "array([False, False, False])"
            ]
          },
          "metadata": {},
          "execution_count": 121
        }
      ]
    },
    {
      "cell_type": "code",
      "source": [
        "np.any(a>=b)"
      ],
      "metadata": {
        "colab": {
          "base_uri": "https://localhost:8080/"
        },
        "id": "DH700-xNdAoR",
        "outputId": "69d56f2b-c8db-480a-979e-a0f4c95e36a4"
      },
      "execution_count": null,
      "outputs": [
        {
          "output_type": "execute_result",
          "data": {
            "text/plain": [
              "False"
            ]
          },
          "metadata": {},
          "execution_count": 122
        }
      ]
    },
    {
      "cell_type": "code",
      "source": [
        "arr = np.array([-3,4,27,34,-2, 0, -45,-11,4, 0 ])\n",
        "arr"
      ],
      "metadata": {
        "colab": {
          "base_uri": "https://localhost:8080/"
        },
        "id": "hXgGVy3cdWo2",
        "outputId": "8f1030a3-99c7-4286-ea10-98c58a505cf2"
      },
      "execution_count": null,
      "outputs": [
        {
          "output_type": "execute_result",
          "data": {
            "text/plain": [
              "array([ -3,   4,  27,  34,  -2,   0, -45, -11,   4,   0])"
            ]
          },
          "metadata": {},
          "execution_count": 123
        }
      ]
    },
    {
      "cell_type": "code",
      "source": [
        "arr[arr > 0] = 1\n",
        "arr[arr < 0] = -1\n",
        "print(arr)"
      ],
      "metadata": {
        "colab": {
          "base_uri": "https://localhost:8080/"
        },
        "id": "93mf1tkZdeeH",
        "outputId": "98ab9827-fcd8-412a-b61b-a06e8fd33831"
      },
      "execution_count": null,
      "outputs": [
        {
          "output_type": "stream",
          "name": "stdout",
          "text": [
            "[-1  1  1  1 -1  0 -1 -1  1  0]\n"
          ]
        }
      ]
    },
    {
      "cell_type": "code",
      "source": [
        "#where"
      ],
      "metadata": {
        "id": "Z-g3wDx3drdz"
      },
      "execution_count": null,
      "outputs": []
    },
    {
      "cell_type": "code",
      "source": [
        "a = np.array([-3,4,27,34,-2, 0, -45,-11,4, 0 ])"
      ],
      "metadata": {
        "id": "O6IFoFZSd0lx"
      },
      "execution_count": null,
      "outputs": []
    },
    {
      "cell_type": "code",
      "source": [
        "print(a)"
      ],
      "metadata": {
        "colab": {
          "base_uri": "https://localhost:8080/"
        },
        "id": "E6Zy_t-Dd4RI",
        "outputId": "517a48cf-b2d7-48ed-ce9e-85cf46446e3f"
      },
      "execution_count": null,
      "outputs": [
        {
          "output_type": "stream",
          "name": "stdout",
          "text": [
            "[ -3   4  27  34  -2   0 -45 -11   4   0]\n"
          ]
        }
      ]
    },
    {
      "cell_type": "code",
      "source": [
        "b = np.where(a >= 0, \"pos\", \"neg\")"
      ],
      "metadata": {
        "id": "Z59lFC95d4_T"
      },
      "execution_count": null,
      "outputs": []
    },
    {
      "cell_type": "code",
      "source": [
        "print(b)"
      ],
      "metadata": {
        "colab": {
          "base_uri": "https://localhost:8080/"
        },
        "id": "iJz5Rp77eDl7",
        "outputId": "fb0181e6-fffb-4635-ba3d-8b809e0389bf"
      },
      "execution_count": null,
      "outputs": [
        {
          "output_type": "stream",
          "name": "stdout",
          "text": [
            "['neg' 'pos' 'pos' 'pos' 'neg' 'pos' 'neg' 'neg' 'pos' 'pos']\n"
          ]
        }
      ]
    },
    {
      "cell_type": "code",
      "source": [
        "print(a)"
      ],
      "metadata": {
        "colab": {
          "base_uri": "https://localhost:8080/"
        },
        "id": "Xi_vb176eEcD",
        "outputId": "bfa38e87-7cfe-40fe-ab73-f5ac0f1c1f0c"
      },
      "execution_count": null,
      "outputs": [
        {
          "output_type": "stream",
          "name": "stdout",
          "text": [
            "[ -3   4  27  34  -2   0 -45 -11   4   0]\n"
          ]
        }
      ]
    },
    {
      "cell_type": "code",
      "source": [
        "print(np.where(a)) #gives index of all the non-zero elements - special case"
      ],
      "metadata": {
        "colab": {
          "base_uri": "https://localhost:8080/"
        },
        "id": "_Y1nVAC1ePcE",
        "outputId": "1f859e78-293e-4d29-d8e7-c03db267ca37"
      },
      "execution_count": null,
      "outputs": [
        {
          "output_type": "stream",
          "name": "stdout",
          "text": [
            "(array([0, 1, 2, 3, 4, 6, 7, 8]),)\n"
          ]
        }
      ]
    },
    {
      "cell_type": "code",
      "source": [
        "#doubts"
      ],
      "metadata": {
        "id": "_b9hjz6KgY-v"
      },
      "execution_count": null,
      "outputs": []
    },
    {
      "cell_type": "code",
      "source": [
        "a = np.arange(12).reshape(3,4)\n",
        "print(a)"
      ],
      "metadata": {
        "colab": {
          "base_uri": "https://localhost:8080/"
        },
        "id": "UMxLSKOBfrI4",
        "outputId": "1263b2af-117b-469f-ebe6-8b52bf176114"
      },
      "execution_count": null,
      "outputs": [
        {
          "output_type": "stream",
          "name": "stdout",
          "text": [
            "[[ 0  1  2  3]\n",
            " [ 4  5  6  7]\n",
            " [ 8  9 10 11]]\n"
          ]
        }
      ]
    },
    {
      "cell_type": "code",
      "source": [
        "a[::2, 0::3]"
      ],
      "metadata": {
        "colab": {
          "base_uri": "https://localhost:8080/"
        },
        "id": "7aNM7QwDgGg4",
        "outputId": "3803d27c-7498-44bd-9cc2-0bb6022c8a44"
      },
      "execution_count": null,
      "outputs": [
        {
          "output_type": "execute_result",
          "data": {
            "text/plain": [
              "array([[ 0,  3],\n",
              "       [ 8, 11]])"
            ]
          },
          "metadata": {},
          "execution_count": 142
        }
      ]
    },
    {
      "cell_type": "code",
      "source": [],
      "metadata": {
        "id": "-4yaW3d8gPNr"
      },
      "execution_count": null,
      "outputs": []
    }
  ]
}